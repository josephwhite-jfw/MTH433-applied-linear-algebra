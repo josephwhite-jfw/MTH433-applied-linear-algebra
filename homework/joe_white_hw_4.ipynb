{
 "cells": [
  {
   "cell_type": "code",
   "execution_count": 1,
   "id": "c9ffd8be-9286-4af9-ae2c-37b68e5a6223",
   "metadata": {},
   "outputs": [],
   "source": [
    "import numpy as np, pandas as pd"
   ]
  },
  {
   "cell_type": "code",
   "execution_count": 2,
   "id": "486a7e58-5d40-403b-9ca8-7ca81de39608",
   "metadata": {},
   "outputs": [],
   "source": [
    "def run_filter(A, im_filter):\n",
    "    \"\"\"\n",
    "    Slide the filter over the matrix A and return the result.\n",
    "\n",
    "    Parameters\n",
    "    ----------\n",
    "    A : array_like\n",
    "        The input 2D matrix.\n",
    "    im_filter : array_like\n",
    "        The 2D filter to run over A.\n",
    "\n",
    "    Returns\n",
    "    -------\n",
    "    out : ndarray\n",
    "        A new matrix made by applying the filter to A.\n",
    "    \"\"\"\n",
    "    A = np.asarray(A, dtype=float)\n",
    "    F = np.asarray(im_filter, dtype=float)\n",
    "    H, W = A.shape\n",
    "    fh, fw = F.shape\n",
    "    out = np.zeros((H - fh + 1, W - fw + 1), dtype=float)\n",
    "    for i in range(H - fh + 1):\n",
    "        for j in range(W - fw + 1):\n",
    "            out[i, j] = np.sum(A[i:i+fh, j:j+fw] * F)\n",
    "    return out"
   ]
  }
 ],
 "metadata": {
  "kernelspec": {
   "display_name": "Python [conda env:base] *",
   "language": "python",
   "name": "conda-base-py"
  },
  "language_info": {
   "codemirror_mode": {
    "name": "ipython",
    "version": 3
   },
   "file_extension": ".py",
   "mimetype": "text/x-python",
   "name": "python",
   "nbconvert_exporter": "python",
   "pygments_lexer": "ipython3",
   "version": "3.12.3"
  }
 },
 "nbformat": 4,
 "nbformat_minor": 5
}
