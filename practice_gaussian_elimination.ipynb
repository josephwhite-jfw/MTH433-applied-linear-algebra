{
 "cells": [
  {
   "cell_type": "code",
   "execution_count": 2,
   "id": "e34c4df7-ff3e-44f3-a718-a3c716ec50ff",
   "metadata": {},
   "outputs": [],
   "source": [
    "### Practice Review of Gaussian Elimination ###\n",
    "## All computations are done by hand and checked in this notebook ##"
   ]
  },
  {
   "cell_type": "code",
   "execution_count": 3,
   "id": "6bfa6844-34d3-416b-af8c-11cfbdbe58f6",
   "metadata": {},
   "outputs": [],
   "source": [
    "import numpy as np"
   ]
  },
  {
   "cell_type": "code",
   "execution_count": 11,
   "id": "417f0b19-3dbf-4e3d-8973-fdb59a9eda1a",
   "metadata": {},
   "outputs": [
    {
     "name": "stdout",
     "output_type": "stream",
     "text": [
      "System (a) solution: [ 5.66666667 -1.33333333]\n",
      "Check (a): True\n",
      "\n",
      "System (b) solution: [ 1. -1.]\n",
      "Check (b): True\n",
      "\n",
      "System (c) solution: [ 1.5        -0.33333333  0.16666667]\n",
      "Check (c): True\n",
      "\n",
      "System (d) solution: [ 3.66666667 -3.33333333 -0.66666667]\n",
      "Check (d): True\n",
      "\n",
      "System (e) solution: [-0.66666667  3.16666667  2.5       ]\n",
      "Check (e): True\n",
      "\n",
      "System 6 solution: [ 3.33333333e-01  2.22044605e-16  1.33333333e+00 -6.66666667e-01]\n",
      "Check (f): True\n"
     ]
    }
   ],
   "source": [
    "# 1.3.1 \n",
    "\n",
    "# System a \n",
    "A1 = np.array([[1, -1],\n",
    "               [1,  2]], dtype=float)\n",
    "b1 = np.array([7, 3], dtype=float)\n",
    "\n",
    "sol1 = np.linalg.solve(A1, b1)\n",
    "print(\"System (a) solution:\", sol1)\n",
    "print(\"Check (a):\", np.allclose(A1 @ sol1, b1))\n",
    "\n",
    "\n",
    "# System b\n",
    "A2 = np.array([[6,  1],\n",
    "               [3, -2]], dtype=float)\n",
    "b2 = np.array([5, 5], dtype=float)\n",
    "\n",
    "sol2 = np.linalg.solve(A2, b2)\n",
    "print(\"\\nSystem (b) solution:\", sol2)\n",
    "print(\"Check (b):\", np.allclose(A2 @ sol2, b2))\n",
    "\n",
    "# System c \n",
    "A3 = np.array([[2,1,2],\n",
    "              [-1,3,3],\n",
    "              [4,-3,0]])\n",
    "b3 = np.array([3,-2,7])\n",
    "\n",
    "sol3 = np.linalg.solve(A3,b3)\n",
    "print(\"\\nSystem (c) solution:\", sol3)\n",
    "print(\"Check (c):\", np.allclose(A3 @ sol3, b3))\n",
    "\n",
    "# System d \n",
    "A4 = np.array([[5,3,-1],\n",
    "              [3,2,-1],\n",
    "               [1,1,2]\n",
    "              ])\n",
    "b4 = np.array([9,5,-1])\n",
    "sol4 = np.linalg.solve(A4,b4)\n",
    "print(\"\\nSystem (d) solution:\", sol4)\n",
    "print(\"Check (d):\", np.allclose(A4 @ sol4, b4))\n",
    "\n",
    "# System e \n",
    "A5 = np.array([[1,1,-1],\n",
    "              [2,-1,3],\n",
    "              [-1,-1,3]])\n",
    "b5 = np.array([0,3,5])\n",
    "\n",
    "sol5 = np.linalg.solve(A5,b5)\n",
    "print(\"\\nSystem (e) solution:\", sol5)\n",
    "print(\"Check (e):\", np.allclose(A5 @ sol5, b5))\n",
    "\n",
    "# System f\n",
    "A6 = np.array([[-1,1,1,0],\n",
    "              [2,-1,0,1],\n",
    "               [1,0,2,3],\n",
    "               [0,1,-1,-2]\n",
    "              ])\n",
    "b6 = np.array([1,0,1,0])\n",
    "\n",
    "sol6 = np.linalg.solve(A6,b6)\n",
    "print(\"\\nSystem 6 solution:\", sol6)\n",
    "print(\"Check (f):\", np.allclose(A6 @ sol6, b6))"
   ]
  },
  {
   "cell_type": "code",
   "execution_count": null,
   "id": "3d9b9b73-7714-41a2-a71f-fed5f348b55d",
   "metadata": {},
   "outputs": [],
   "source": []
  }
 ],
 "metadata": {
  "kernelspec": {
   "display_name": "Python 3 (ipykernel)",
   "language": "python",
   "name": "python3"
  },
  "language_info": {
   "codemirror_mode": {
    "name": "ipython",
    "version": 3
   },
   "file_extension": ".py",
   "mimetype": "text/x-python",
   "name": "python",
   "nbconvert_exporter": "python",
   "pygments_lexer": "ipython3",
   "version": "3.13.2"
  }
 },
 "nbformat": 4,
 "nbformat_minor": 5
}
