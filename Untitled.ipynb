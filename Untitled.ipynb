{
 "cells": [
  {
   "cell_type": "code",
   "execution_count": 1,
   "id": "d1df1258-8ca9-4fcc-9995-cd3dbe3384c8",
   "metadata": {},
   "outputs": [],
   "source": [
    "import numpy as np, pandas as pd "
   ]
  },
  {
   "cell_type": "code",
   "execution_count": 4,
   "id": "de322c4b-3a08-4a60-b76c-bc4937c6c775",
   "metadata": {},
   "outputs": [
    {
     "ename": "_IncompleteInputError",
     "evalue": "incomplete input (3909727446.py, line 1)",
     "output_type": "error",
     "traceback": [
      "  \u001b[36mCell\u001b[39m\u001b[36m \u001b[39m\u001b[32mIn[4]\u001b[39m\u001b[32m, line 1\u001b[39m\n\u001b[31m    \u001b[39m\u001b[31mdef func2(x,y):\u001b[39m\n                   ^\n\u001b[31m_IncompleteInputError\u001b[39m\u001b[31m:\u001b[39m incomplete input\n"
     ]
    }
   ],
   "source": [
    "def func2(array):\n",
    "    \"\"\"Adds a scalar multiple of from_row of A to to_row of A\n",
    "\n",
    "    Parameters\n",
    "    ----------\n",
    "    A : np array\n",
    "    from_row, to_row : int\n",
    "        these are both row numbers of the array A\n",
    "    scalar : float\n",
    "        the scalar used in the row operation\n",
    "\n",
    "    Returns\n",
    "    -------\n",
    "    np array\n",
    "        A after the indicated row operation is performed\n",
    "    \"\"\"\n",
    "\n",
    "    "
   ]
  },
  {
   "cell_type": "code",
   "execution_count": null,
   "id": "88e263d2-d08d-42dc-a994-1912dcb78a5f",
   "metadata": {},
   "outputs": [],
   "source": []
  }
 ],
 "metadata": {
  "kernelspec": {
   "display_name": "Python 3 (ipykernel)",
   "language": "python",
   "name": "python3"
  },
  "language_info": {
   "codemirror_mode": {
    "name": "ipython",
    "version": 3
   },
   "file_extension": ".py",
   "mimetype": "text/x-python",
   "name": "python",
   "nbconvert_exporter": "python",
   "pygments_lexer": "ipython3",
   "version": "3.13.2"
  }
 },
 "nbformat": 4,
 "nbformat_minor": 5
}
