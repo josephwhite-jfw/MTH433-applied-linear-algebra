{
 "cells": [
  {
   "cell_type": "code",
   "execution_count": 1,
   "id": "d58cfa55-a12e-4441-9f86-9ad5c8de29b5",
   "metadata": {},
   "outputs": [],
   "source": [
    "import numpy as np\n",
    "from mth433 import row_reduce as rr"
   ]
  },
  {
   "cell_type": "code",
   "execution_count": 9,
   "id": "799bfee1-b013-4cd0-aad8-78a6630cf8bb",
   "metadata": {},
   "outputs": [
    {
     "data": {
      "text/plain": [
       "array([[ 2.,  3., -1.],\n",
       "       [ 0.,  9., -7.],\n",
       "       [ 0.,  0.,  0.]])"
      ]
     },
     "execution_count": 9,
     "metadata": {},
     "output_type": "execute_result"
    }
   ],
   "source": [
    "# 1.8.22\n",
    "# Question c \n",
    "\n",
    "c = np.array([[2,3,-1],\n",
    "             [-4,3,-5],\n",
    "              [1,-3,3]\n",
    "             ])\n",
    "\n",
    "# row reduce c \n",
    "rr(c)"
   ]
  },
  {
   "cell_type": "code",
   "execution_count": null,
   "id": "55d3ac41-7ceb-48a0-9a56-e5c72c6953fb",
   "metadata": {},
   "outputs": [],
   "source": []
  }
 ],
 "metadata": {
  "kernelspec": {
   "display_name": "Python 3 (ipykernel)",
   "language": "python",
   "name": "python3"
  },
  "language_info": {
   "codemirror_mode": {
    "name": "ipython",
    "version": 3
   },
   "file_extension": ".py",
   "mimetype": "text/x-python",
   "name": "python",
   "nbconvert_exporter": "python",
   "pygments_lexer": "ipython3",
   "version": "3.13.2"
  }
 },
 "nbformat": 4,
 "nbformat_minor": 5
}
