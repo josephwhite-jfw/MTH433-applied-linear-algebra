{
 "cells": [
  {
   "cell_type": "code",
   "execution_count": null,
   "id": "91f00cf5-40ec-4b32-bf0c-68d5acfd70f3",
   "metadata": {},
   "outputs": [],
   "source": [
    "import matplotlib\n",
    "%matplotlib qt\n",
    "import numpy as np\n",
    "import matplotlib.pyplot as plt"
   ]
  },
  {
   "cell_type": "code",
   "execution_count": null,
   "id": "c545b456-ad31-4798-8967-c0393395489c",
   "metadata": {},
   "outputs": [],
   "source": [
    "def recordpts(n):\n",
    "    \"\"\"Records and plots n points specified by the user\n",
    "    \n",
    "       Parameters\n",
    "       ----------\n",
    "       n : int\n",
    "       \n",
    "       Returns\n",
    "       -------\n",
    "       nx2 np array\n",
    "    \"\"\"\n",
    "    plt.figure()\n",
    "    plt.xlim(0, 1)\n",
    "    plt.ylim(0, 1)\n",
    "\n",
    "    pts = np.asarray(plt.ginput(n))\n",
    "    x = pts[:,0:1]\n",
    "    y = pts[:,1:2]\n",
    "    plt.plot(x,y,'.')\n",
    "    plt.draw()\n",
    "\n",
    "    return pts"
   ]
  },
  {
   "cell_type": "code",
   "execution_count": null,
   "id": "8e89f80e-a14f-4ab6-a344-8f006e8b3ff0",
   "metadata": {},
   "outputs": [],
   "source": [
    "recordpts(5)"
   ]
  },
  {
   "cell_type": "code",
   "execution_count": null,
   "id": "43ef85ce-7543-4ca9-ab8b-025ec502d8cf",
   "metadata": {},
   "outputs": [],
   "source": []
  }
 ],
 "metadata": {
  "kernelspec": {
   "display_name": "Python [conda env:base] *",
   "language": "python",
   "name": "conda-base-py"
  },
  "language_info": {
   "codemirror_mode": {
    "name": "ipython",
    "version": 3
   },
   "file_extension": ".py",
   "mimetype": "text/x-python",
   "name": "python",
   "nbconvert_exporter": "python",
   "pygments_lexer": "ipython3",
   "version": "3.12.3"
  }
 },
 "nbformat": 4,
 "nbformat_minor": 5
}
