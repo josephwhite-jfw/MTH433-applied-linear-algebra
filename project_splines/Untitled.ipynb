{
 "cells": [
  {
   "cell_type": "code",
   "execution_count": 1,
   "id": "e61c55e8-0c7c-4899-9456-168dcfcd0710",
   "metadata": {},
   "outputs": [],
   "source": [
    "import pandas as pd\n",
    "import numpy as np\n",
    "import pandas_datareader.data as web\n",
    "import datetime"
   ]
  },
  {
   "cell_type": "code",
   "execution_count": 2,
   "id": "34f31101-4dd0-475f-b6a6-1372543f55fc",
   "metadata": {},
   "outputs": [],
   "source": [
    "# Pick a date range (last 30 days here)\n",
    "start = datetime.datetime.today() - datetime.timedelta(days=30)\n",
    "end   = datetime.datetime.today()\n",
    "\n",
    "tickers = [\"DGS1MO\", \"DGS3MO\", \"DGS6MO\", \"DGS1\", \"DGS2\", \"DGS5\", \"DGS10\", \"DGS20\", \"DGS30\"]\n",
    "\n",
    "df = web.DataReader(tickers, \"fred\", start, end)"
   ]
  },
  {
   "cell_type": "code",
   "execution_count": 3,
   "id": "2303b245-c49e-44fa-94a0-dca9a8f35211",
   "metadata": {},
   "outputs": [
    {
     "name": "stdout",
     "output_type": "stream",
     "text": [
      "[[ 0.08333333  4.17      ]\n",
      " [ 0.25        4.        ]\n",
      " [ 0.5         3.81      ]\n",
      " [ 1.          3.61      ]\n",
      " [ 2.          3.61      ]\n",
      " [ 5.          3.71      ]\n",
      " [10.          4.15      ]\n",
      " [20.          4.73      ]\n",
      " [30.          4.77      ]]\n"
     ]
    }
   ],
   "source": [
    "# Drop rows with missing values\n",
    "df = df.dropna()\n",
    "\n",
    "# Get the most recent date’s row\n",
    "latest = df.iloc[-1]\n",
    "\n",
    "# Define maturities in years (x-coordinates)\n",
    "maturities = np.array([1/12, 0.25, 0.5, 1, 2, 5, 10, 20, 30])  # years\n",
    "\n",
    "# Get yields in % (y-coordinates)\n",
    "yields = latest.values\n",
    "\n",
    "# Stack into an (n x 2) NumPy array\n",
    "Y = np.column_stack([maturities, yields])\n",
    "print(Y)"
   ]
  },
  {
   "cell_type": "code",
   "execution_count": null,
   "id": "aaeb6438-2808-4484-8a63-67cd6e7468f4",
   "metadata": {},
   "outputs": [],
   "source": []
  }
 ],
 "metadata": {
  "kernelspec": {
   "display_name": "Python 3 (ipykernel)",
   "language": "python",
   "name": "python3"
  },
  "language_info": {
   "codemirror_mode": {
    "name": "ipython",
    "version": 3
   },
   "file_extension": ".py",
   "mimetype": "text/x-python",
   "name": "python",
   "nbconvert_exporter": "python",
   "pygments_lexer": "ipython3",
   "version": "3.13.2"
  }
 },
 "nbformat": 4,
 "nbformat_minor": 5
}
