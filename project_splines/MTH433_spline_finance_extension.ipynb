{
 "cells": [
  {
   "cell_type": "code",
   "execution_count": 1,
   "id": "e61c55e8-0c7c-4899-9456-168dcfcd0710",
   "metadata": {},
   "outputs": [],
   "source": [
    "import pandas as pd\n",
    "import numpy as np\n",
    "import pandas_datareader.data as web\n",
    "import datetime"
   ]
  },
  {
   "cell_type": "code",
   "execution_count": 2,
   "id": "34f31101-4dd0-475f-b6a6-1372543f55fc",
   "metadata": {},
   "outputs": [],
   "source": [
    "# Start with a date range - Last 30 days \n",
    "start = datetime.datetime.today() - datetime.timedelta(days=30)\n",
    "end   = datetime.datetime.today()\n",
    "\n",
    "tickers = [\"DGS1MO\", \"DGS3MO\", \"DGS6MO\", \"DGS1\", \"DGS2\", \"DGS5\", \"DGS10\", \"DGS20\", \"DGS30\"]\n",
    "df = web.DataReader(tickers, \"fred\", start, end)"
   ]
  },
  {
   "cell_type": "code",
   "execution_count": 3,
   "id": "2303b245-c49e-44fa-94a0-dca9a8f35211",
   "metadata": {},
   "outputs": [
    {
     "name": "stdout",
     "output_type": "stream",
     "text": [
      "[[ 0.08333333  4.22      ]\n",
      " [ 0.25        4.04      ]\n",
      " [ 0.5         3.84      ]\n",
      " [ 1.          3.65      ]\n",
      " [ 2.          3.63      ]\n",
      " [ 5.          3.74      ]\n",
      " [10.          4.15      ]\n",
      " [20.          4.69      ]\n",
      " [30.          4.71      ]]\n"
     ]
    }
   ],
   "source": [
    "# Drop missing rows and get the most recent dates row \n",
    "df = df.dropna()\n",
    "latest = df.iloc[-1]\n",
    "\n",
    "# Define maturities in years for the x - coords \n",
    "maturities = np.array([1/12, 0.25, 0.5, 1, 2, 5, 10, 20, 30])  # years\n",
    "\n",
    "# Get yields in % for the y - coords \n",
    "yields = latest.values\n",
    "\n",
    "# Stack into an (n x 2) NumPy array\n",
    "Y = np.column_stack([maturities, yields])\n",
    "print(Y)"
   ]
  },
  {
   "cell_type": "code",
   "execution_count": null,
   "id": "d99706ee-5a75-4e9f-aa19-0ac7ec47c1eb",
   "metadata": {},
   "outputs": [],
   "source": [
    "def coeff(y):\n",
    "    \"\"\"\n",
    "    Parameters\n",
    "    ----------\n",
    "    y = nx2 numpy array\n",
    "\n",
    "    Returns\n",
    "    -------\n",
    "    Returns a (2n-2)x4 array where the first n-1 rows are the cubic coefficients for the x-coordinates,\n",
    "    and the last n-1 rows are the cubic coefficients for the y coordinates. Natural boundary conditions\n",
    "    are assumed. \n",
    "\n",
    "    \"\"\""
   ]
  }
 ],
 "metadata": {
  "kernelspec": {
   "display_name": "Python [conda env:base] *",
   "language": "python",
   "name": "conda-base-py"
  },
  "language_info": {
   "codemirror_mode": {
    "name": "ipython",
    "version": 3
   },
   "file_extension": ".py",
   "mimetype": "text/x-python",
   "name": "python",
   "nbconvert_exporter": "python",
   "pygments_lexer": "ipython3",
   "version": "3.12.3"
  }
 },
 "nbformat": 4,
 "nbformat_minor": 5
}
