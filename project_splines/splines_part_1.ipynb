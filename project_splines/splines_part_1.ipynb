{
 "cells": [
  {
   "cell_type": "code",
   "execution_count": 8,
   "id": "54c0b428-ad21-40c1-8b27-ca32e27e1f79",
   "metadata": {},
   "outputs": [],
   "source": [
    "import numpy as np\n",
    "\n",
    "def coeff(Y):\n",
    "    \"\"\"\n",
    "    Parameters\n",
    "    ----------\n",
    "    Y : (n,2) numpy array\n",
    "    \n",
    "    Returns\n",
    "    -------\n",
    "    coeffs : (2n-2, 4) numpy array\n",
    "        First n-1 rows  = [a,b,c,d]\n",
    "        Last  n-1 rows  = [a,b,c,d]\n",
    "    \"\"\"\n",
    "    Y = np.asarray(Y)\n",
    "    x, y = Y[:, 0], Y[:, 1]\n",
    "    n = x.shape[0]\n",
    "\n",
    "    # Build A \n",
    "    main = np.full(n - 2, 4.0)\n",
    "    off  = np.full(n - 3, 1.0)\n",
    "    A = np.diag(main) + np.diag(off, 1) + np.diag(off, -1)\n",
    "\n",
    "    # Build z\n",
    "    z_x = 6 * (x[2:] - 2 * x[1:-1] + x[:-2])\n",
    "    z_y = 6 * (y[2:] - 2 * y[1:-1] + y[:-2])\n",
    "    Z = np.column_stack([z_x, z_y])\n",
    "\n",
    "    # Solve Ac = z\n",
    "    C_int = np.linalg.solve(A, Z)\n",
    "    c_x = np.zeros(n)\n",
    "    c_y = np.zeros(n)\n",
    "    c_x[1:-1] = C_int[:, 0]\n",
    "    c_y[1:-1] = C_int[:, 1]\n",
    "\n",
    "    # Compute coefficients a,b,c\n",
    "    dx, dy = np.diff(x), np.diff(y)\n",
    "    a_x, a_y = x[:-1], y[:-1]\n",
    "    b_x = dx - (2 * c_x[:-1] + c_x[1:]) / 6\n",
    "    b_y = dy - (2 * c_y[:-1] + c_y[1:]) / 6\n",
    "    c_x_coef, c_y_coef = c_x[:-1] / 2, c_y[:-1] / 2\n",
    "    d_x = (c_x[1:] - c_x[:-1]) / 6\n",
    "    d_y = (c_y[1:] - c_y[:-1]) / 6\n",
    "\n",
    "    coeff_x = np.column_stack([a_x, b_x, c_x_coef, d_x])\n",
    "    coeff_y = np.column_stack([a_y, b_y, c_y_coef, d_y])\n",
    "    return np.vstack([coeff_x, coeff_y])"
   ]
  }
 ],
 "metadata": {
  "kernelspec": {
   "display_name": "Python [conda env:base] *",
   "language": "python",
   "name": "conda-base-py"
  },
  "language_info": {
   "codemirror_mode": {
    "name": "ipython",
    "version": 3
   },
   "file_extension": ".py",
   "mimetype": "text/x-python",
   "name": "python",
   "nbconvert_exporter": "python",
   "pygments_lexer": "ipython3",
   "version": "3.12.3"
  }
 },
 "nbformat": 4,
 "nbformat_minor": 5
}
