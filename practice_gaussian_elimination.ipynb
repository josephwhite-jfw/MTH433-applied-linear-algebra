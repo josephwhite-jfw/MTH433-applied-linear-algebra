{
 "cells": [
  {
   "cell_type": "code",
   "execution_count": 8,
   "id": "e34c4df7-ff3e-44f3-a718-a3c716ec50ff",
   "metadata": {},
   "outputs": [],
   "source": [
    "### Practice Review of Gaussian Elimination ###\n",
    "## All computations are done by hand and checked in this notebook ##"
   ]
  },
  {
   "cell_type": "code",
   "execution_count": 16,
   "id": "6bfa6844-34d3-416b-af8c-11cfbdbe58f6",
   "metadata": {},
   "outputs": [],
   "source": [
    "import numpy as np"
   ]
  },
  {
   "cell_type": "code",
   "execution_count": 18,
   "id": "417f0b19-3dbf-4e3d-8973-fdb59a9eda1a",
   "metadata": {},
   "outputs": [
    {
     "name": "stdout",
     "output_type": "stream",
     "text": [
      "System (a) solution: [ 5.66666667 -1.33333333]\n",
      "Check (a): True\n",
      "\n",
      "System (b) solution: [ 1. -1.]\n",
      "Check (b): True\n"
     ]
    }
   ],
   "source": [
    "# 1.3.1 \n",
    "\n",
    "# ---------- System (a) ----------\n",
    "A1 = np.array([[1, -1],\n",
    "               [1,  2]], dtype=float)\n",
    "b1 = np.array([7, 3], dtype=float)\n",
    "\n",
    "sol1 = np.linalg.solve(A1, b1)\n",
    "print(\"System (a) solution:\", sol1)\n",
    "print(\"Check (a):\", np.allclose(A1 @ sol1, b1))\n",
    "\n",
    "\n",
    "# ---------- System (b) ----------\n",
    "A2 = np.array([[6,  1],\n",
    "               [3, -2]], dtype=float)\n",
    "b2 = np.array([5, 5], dtype=float)\n",
    "\n",
    "sol2 = np.linalg.solve(A2, b2)\n",
    "print(\"\\nSystem (b) solution:\", sol2)\n",
    "print(\"Check (b):\", np.allclose(A2 @ sol2, b2))\n",
    "\n",
    "# ---------- System (c) ----------\n",
    "A3 = np.array([[2,1,2],\n",
    "              [-1,3,3],\n",
    "              [2,3,0]])\n",
    "b3 = np.array([3,-2,7])\n",
    "\n",
    "sol3 = np.linalg.solve(A3,b3)\n",
    "print(\"\\nSystem (c) solution:\", sol3)\n",
    "print(\"Check (c):\", np.allclose(A3 @ sol3, b3))"
   ]
  },
  {
   "cell_type": "code",
   "execution_count": null,
   "id": "6ba80fa9-3c36-495c-9a53-f9b056f47893",
   "metadata": {},
   "outputs": [],
   "source": []
  }
 ],
 "metadata": {
  "kernelspec": {
   "display_name": "Python 3 (ipykernel)",
   "language": "python",
   "name": "python3"
  },
  "language_info": {
   "codemirror_mode": {
    "name": "ipython",
    "version": 3
   },
   "file_extension": ".py",
   "mimetype": "text/x-python",
   "name": "python",
   "nbconvert_exporter": "python",
   "pygments_lexer": "ipython3",
   "version": "3.13.2"
  }
 },
 "nbformat": 4,
 "nbformat_minor": 5
}
