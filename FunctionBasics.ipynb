{
 "cells": [
  {
   "cell_type": "code",
   "execution_count": 1,
   "id": "e358d30e-4420-4654-92b8-52a6ceeabd0b",
   "metadata": {},
   "outputs": [],
   "source": [
    "import numpy as np"
   ]
  },
  {
   "cell_type": "markdown",
   "id": "1a607822-b20d-45e2-9e45-4ff9957b7aab",
   "metadata": {},
   "source": [
    "## Introduction\n",
    "You have used some numpy/python functions already\\\n",
    "For example the @ function takes as parameters an nxk array A\\\n",
    "a kxm array B and returns their product A @ B which is\\\n",
    "an nxm array.  You will learn the basics of function\\\n",
    "definition and numpy documentation in this Notebook."
   ]
  },
  {
   "cell_type": "code",
   "execution_count": 2,
   "id": "95da0593-ef34-416e-973d-ff15f81a458c",
   "metadata": {},
   "outputs": [],
   "source": [
    "def test_func(x):\n",
    "    \"\"\"Multiplies an array by its transpose\n",
    "\n",
    "    Parameters\n",
    "    ----------\n",
    "    x : np array\n",
    "\n",
    "    Returns\n",
    "    -------\n",
    "    np array\n",
    "        the result of multiplying x by its transpose\n",
    "    \"\"\"\n",
    "    return x @ x.T"
   ]
  },
  {
   "cell_type": "markdown",
   "id": "535dcc67-b1b6-45f5-9fd6-d5f63bb84ab3",
   "metadata": {},
   "source": [
    "Try out test_func.  Define a matrix A and define B = test_func(B).  See what B looks like. \n",
    "\n",
    "Let's try another one related to your last Homework assignment"
   ]
  },
  {
   "cell_type": "code",
   "execution_count": null,
   "id": "4112ccf8-b5e7-4efd-b904-a8ab249b5187",
   "metadata": {},
   "outputs": [],
   "source": [
    "def top_bot_sum(x,y):\n",
    "    \"\"\"x and y are both nxk arrays.  Adds the first n-1 rows of \n",
    "    x to the last n-1 rows of y.\n",
    "\n",
    "    Parameters\n",
    "    ----------\n",
    "    y : np array\n",
    "\n",
    "    Returns\n",
    "    -------\n",
    "    np array\n",
    "    \n",
    "    \"\"\"\n",
    "    n = y.shape[0] #get the number of rows of y\n",
    "    return x[0:n] + y[1:]"
   ]
  },
  {
   "cell_type": "markdown",
   "id": "4e6d712b-577c-4c98-9c5b-94bc8e13c480",
   "metadata": {},
   "source": [
    "I could have defined top_bot_sum without using the line n = x.shape[0]\\\n",
    "Do you see how?"
   ]
  },
  {
   "cell_type": "markdown",
   "id": "25837483-eb77-4404-a06e-404c10b4ebef",
   "metadata": {},
   "source": [
    "## Syntax\n",
    "1. The first line of a function must be def name_of_function(input1,input2,...,inputk):\n",
    "2. The return line tells python the value of the output of the function. After the return line python exits the function.\n",
    "3. If you want to use the output of the function you should assign a variable to it, for example A = top_bot_sum(x,y)\n",
    "\n",
    "## Naming convention\n",
    "1. Python naming conventions for functions and variables are *lower case with words separated by an underscore*. We will follow this naming convention. You may have learned a different programming language with different naming conventions.  That is great.  **We will follow python naming conventions in this class.**"
   ]
  },
  {
   "cell_type": "markdown",
   "id": "8d28e416-4d06-48a0-93dc-5b5c0b1f0ceb",
   "metadata": {},
   "source": [
    "Another example that performs a row operation on a matrix"
   ]
  },
  {
   "cell_type": "code",
   "execution_count": null,
   "id": "89e5aec1-0187-46b4-a7da-433031b63477",
   "metadata": {},
   "outputs": [],
   "source": [
    "def row_add(A,from_row,to_row,scalar): \n",
    "    \"\"\"Adds a scalar multiple of from_row of A to to_row of A\n",
    "\n",
    "    Parameters\n",
    "    ----------\n",
    "    A : np array\n",
    "    from_row, to_row : int\n",
    "        these are both row numbers of the array A\n",
    "    scalar : float\n",
    "        the scalar used in the row operation\n",
    "\n",
    "    Returns\n",
    "    -------\n",
    "    np array\n",
    "        A after the indicated row operation is performed\n",
    "    \"\"\"\n",
    "    n = A.shape[0]\n",
    "    elem_mat = np.eye(n) \n",
    "    elem_mat[to_row, from_row] = scalar #define the elementary matrix associated with this row operation\n",
    "\n",
    "    return elem_mat @ A \n",
    "    "
   ]
  },
  {
   "cell_type": "markdown",
   "id": "c8e6eea3-45af-4667-acb2-614d551ebe5f",
   "metadata": {},
   "source": [
    "Try out row_add on A below. Perform the row operation of adding 0.3 times the 3rd row to the 1st row    "
   ]
  },
  {
   "cell_type": "code",
   "execution_count": null,
   "id": "f630efe8-c2e2-4905-8c78-2f58af4b488c",
   "metadata": {},
   "outputs": [],
   "source": [
    "A = np.random.randint(-7,10,size=(5,6))"
   ]
  },
  {
   "cell_type": "markdown",
   "id": "1d850161-77d0-4194-9b4f-49967ff5b6f7",
   "metadata": {},
   "source": [
    "## Documentation and Commenting\n",
    "\n",
    "1. Everything within the triple quotation marks \"\"\".....\"\"\" is *documentation*. Python skips that when executing the function. It is a way to tell another human what the function does.  Good documentation is essential.  There are many different conventions for documentation.  We will follow (no surprise) the [numpy style](https://www.sphinx-doc.org/en/master/usage/extensions/napoleon.html#google-vs-numpy) for documentation.  You may have learned a different style for documentation.  That is great.  **We will use the numpy style for documentation in this class.**\n",
    "2. Notice the line #define the elementary....  Anything after the pound sign # will be ignored by python.  These are notes that are useful when someone else or yourself is reading your code. Good commenting takes practice.  You need to strike the right balance between fully explaining yourself and not being overly verbose."
   ]
  },
  {
   "cell_type": "code",
   "execution_count": null,
   "id": "66560882-dd42-4973-b7f5-ac42697fa071",
   "metadata": {},
   "outputs": [],
   "source": []
  }
 ],
 "metadata": {
  "kernelspec": {
   "display_name": "Python 3 (ipykernel)",
   "language": "python",
   "name": "python3"
  },
  "language_info": {
   "codemirror_mode": {
    "name": "ipython",
    "version": 3
   },
   "file_extension": ".py",
   "mimetype": "text/x-python",
   "name": "python",
   "nbconvert_exporter": "python",
   "pygments_lexer": "ipython3",
   "version": "3.13.2"
  }
 },
 "nbformat": 4,
 "nbformat_minor": 5
}
