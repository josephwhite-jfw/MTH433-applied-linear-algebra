{
 "cells": [
  {
   "cell_type": "markdown",
   "id": "9fee909f-72d1-452d-a35e-fd25fbab67f0",
   "metadata": {},
   "source": [
    "## Some very basic things about DataFrames"
   ]
  },
  {
   "cell_type": "markdown",
   "id": "517d7ce1-daec-4f8e-a2f3-3e1f736fdf23",
   "metadata": {},
   "source": [
    "[DataFrames](https://pandas.pydata.org/docs/reference/api/pandas.DataFrame.html) are like spreadsheets that get along very well with python. We just need a few things for the least squares assignment. They are here."
   ]
  },
  {
   "cell_type": "code",
   "execution_count": 1,
   "id": "a7190c4a-f3a8-4f24-8f42-9fcecc2235c8",
   "metadata": {},
   "outputs": [],
   "source": [
    "import pandas as pd #pandas is the python library that provides the data structure DataFrame\n",
    "import numpy as np"
   ]
  },
  {
   "cell_type": "markdown",
   "id": "e28c0c52-6a55-4171-ad9d-01abd39e5171",
   "metadata": {},
   "source": [
    "1. Use the read_csv command to import a csv file as a DataFrame."
   ]
  },
  {
   "cell_type": "code",
   "execution_count": 2,
   "id": "f47a2ffd-091d-4b92-af09-938fbc7fb3a1",
   "metadata": {},
   "outputs": [],
   "source": [
    "df = pd.read_csv('games2024.csv',index_col=0) #If you don't specify index_col=0 it adds an unecessary column on import"
   ]
  },
  {
   "cell_type": "code",
   "execution_count": 3,
   "id": "20e16016-7a28-4cbd-87e8-5dc8b1e31a20",
   "metadata": {},
   "outputs": [
    {
     "data": {
      "text/html": [
       "<div>\n",
       "<style scoped>\n",
       "    .dataframe tbody tr th:only-of-type {\n",
       "        vertical-align: middle;\n",
       "    }\n",
       "\n",
       "    .dataframe tbody tr th {\n",
       "        vertical-align: top;\n",
       "    }\n",
       "\n",
       "    .dataframe thead th {\n",
       "        text-align: right;\n",
       "    }\n",
       "</style>\n",
       "<table border=\"1\" class=\"dataframe\">\n",
       "  <thead>\n",
       "    <tr style=\"text-align: right;\">\n",
       "      <th></th>\n",
       "      <th>team</th>\n",
       "      <th>runs</th>\n",
       "      <th>BB</th>\n",
       "      <th>1B</th>\n",
       "      <th>2B</th>\n",
       "      <th>3B</th>\n",
       "      <th>HR</th>\n",
       "      <th>ParkID</th>\n",
       "    </tr>\n",
       "  </thead>\n",
       "  <tbody>\n",
       "    <tr>\n",
       "      <th>0</th>\n",
       "      <td>\"LAN\"</td>\n",
       "      <td>5</td>\n",
       "      <td>9</td>\n",
       "      <td>7</td>\n",
       "      <td>0</td>\n",
       "      <td>0</td>\n",
       "      <td>0</td>\n",
       "      <td>\"SEO01\"</td>\n",
       "    </tr>\n",
       "    <tr>\n",
       "      <th>1</th>\n",
       "      <td>\"SDN\"</td>\n",
       "      <td>2</td>\n",
       "      <td>4</td>\n",
       "      <td>4</td>\n",
       "      <td>0</td>\n",
       "      <td>0</td>\n",
       "      <td>0</td>\n",
       "      <td>\"SEO01\"</td>\n",
       "    </tr>\n",
       "    <tr>\n",
       "      <th>2</th>\n",
       "      <td>\"SDN\"</td>\n",
       "      <td>15</td>\n",
       "      <td>6</td>\n",
       "      <td>13</td>\n",
       "      <td>3</td>\n",
       "      <td>1</td>\n",
       "      <td>1</td>\n",
       "      <td>\"SEO01\"</td>\n",
       "    </tr>\n",
       "    <tr>\n",
       "      <th>3</th>\n",
       "      <td>\"LAN\"</td>\n",
       "      <td>11</td>\n",
       "      <td>6</td>\n",
       "      <td>12</td>\n",
       "      <td>3</td>\n",
       "      <td>0</td>\n",
       "      <td>1</td>\n",
       "      <td>\"SEO01\"</td>\n",
       "    </tr>\n",
       "    <tr>\n",
       "      <th>4</th>\n",
       "      <td>\"COL\"</td>\n",
       "      <td>1</td>\n",
       "      <td>3</td>\n",
       "      <td>2</td>\n",
       "      <td>2</td>\n",
       "      <td>0</td>\n",
       "      <td>0</td>\n",
       "      <td>\"PHO01\"</td>\n",
       "    </tr>\n",
       "  </tbody>\n",
       "</table>\n",
       "</div>"
      ],
      "text/plain": [
       "    team  runs  BB  1B  2B  3B  HR   ParkID\n",
       "0  \"LAN\"     5   9   7   0   0   0  \"SEO01\"\n",
       "1  \"SDN\"     2   4   4   0   0   0  \"SEO01\"\n",
       "2  \"SDN\"    15   6  13   3   1   1  \"SEO01\"\n",
       "3  \"LAN\"    11   6  12   3   0   1  \"SEO01\"\n",
       "4  \"COL\"     1   3   2   2   0   0  \"PHO01\""
      ]
     },
     "execution_count": 3,
     "metadata": {},
     "output_type": "execute_result"
    }
   ],
   "source": [
    "df.head() #.head() shows the first 5 rows of the DataFrame. Can you guess what .tail() does?"
   ]
  },
  {
   "cell_type": "markdown",
   "id": "5f97170d-7d77-4611-bfb9-cebc5a83744c",
   "metadata": {},
   "source": [
    "2. Let's make a new dataframe that only consists of the columns 1B,2B and 3B. "
   ]
  },
  {
   "cell_type": "code",
   "execution_count": 4,
   "id": "1f7bfcdd-d090-46dc-a7f1-2f87ec4d1ca5",
   "metadata": {},
   "outputs": [],
   "source": [
    "df1 = df[['1B','2B','3B']]"
   ]
  },
  {
   "cell_type": "code",
   "execution_count": 5,
   "id": "b78bea2e-2c16-4698-93ce-1c2e98d9acfb",
   "metadata": {},
   "outputs": [
    {
     "data": {
      "text/html": [
       "<div>\n",
       "<style scoped>\n",
       "    .dataframe tbody tr th:only-of-type {\n",
       "        vertical-align: middle;\n",
       "    }\n",
       "\n",
       "    .dataframe tbody tr th {\n",
       "        vertical-align: top;\n",
       "    }\n",
       "\n",
       "    .dataframe thead th {\n",
       "        text-align: right;\n",
       "    }\n",
       "</style>\n",
       "<table border=\"1\" class=\"dataframe\">\n",
       "  <thead>\n",
       "    <tr style=\"text-align: right;\">\n",
       "      <th></th>\n",
       "      <th>1B</th>\n",
       "      <th>2B</th>\n",
       "      <th>3B</th>\n",
       "    </tr>\n",
       "  </thead>\n",
       "  <tbody>\n",
       "    <tr>\n",
       "      <th>0</th>\n",
       "      <td>7</td>\n",
       "      <td>0</td>\n",
       "      <td>0</td>\n",
       "    </tr>\n",
       "    <tr>\n",
       "      <th>1</th>\n",
       "      <td>4</td>\n",
       "      <td>0</td>\n",
       "      <td>0</td>\n",
       "    </tr>\n",
       "    <tr>\n",
       "      <th>2</th>\n",
       "      <td>13</td>\n",
       "      <td>3</td>\n",
       "      <td>1</td>\n",
       "    </tr>\n",
       "    <tr>\n",
       "      <th>3</th>\n",
       "      <td>12</td>\n",
       "      <td>3</td>\n",
       "      <td>0</td>\n",
       "    </tr>\n",
       "    <tr>\n",
       "      <th>4</th>\n",
       "      <td>2</td>\n",
       "      <td>2</td>\n",
       "      <td>0</td>\n",
       "    </tr>\n",
       "  </tbody>\n",
       "</table>\n",
       "</div>"
      ],
      "text/plain": [
       "   1B  2B  3B\n",
       "0   7   0   0\n",
       "1   4   0   0\n",
       "2  13   3   1\n",
       "3  12   3   0\n",
       "4   2   2   0"
      ]
     },
     "execution_count": 5,
     "metadata": {},
     "output_type": "execute_result"
    }
   ],
   "source": [
    "df1.head()"
   ]
  },
  {
   "cell_type": "markdown",
   "id": "44ed5e1c-bb55-4f7f-8827-2a2eaa4a06a6",
   "metadata": {},
   "source": [
    "3. Now let's make an np array from these values"
   ]
  },
  {
   "cell_type": "code",
   "execution_count": 6,
   "id": "146e7d31-83a6-40b8-b8c6-1655127025de",
   "metadata": {},
   "outputs": [],
   "source": [
    "A = np.array(df1)"
   ]
  },
  {
   "cell_type": "code",
   "execution_count": 7,
   "id": "58b33419-f617-464d-aaf6-940c9ef89954",
   "metadata": {},
   "outputs": [
    {
     "data": {
      "text/plain": [
       "array([[ 7,  0,  0],\n",
       "       [ 4,  0,  0],\n",
       "       [13,  3,  1],\n",
       "       ...,\n",
       "       [ 9,  1,  0],\n",
       "       [ 3,  0,  0],\n",
       "       [ 4,  2,  0]])"
      ]
     },
     "execution_count": 7,
     "metadata": {},
     "output_type": "execute_result"
    }
   ],
   "source": [
    "A"
   ]
  },
  {
   "cell_type": "markdown",
   "id": "8cafb966-ebdd-4f96-b8bf-6614ab92e72b",
   "metadata": {},
   "source": [
    "Let's add a new column to our DataFrame and fill it with some random numbers."
   ]
  },
  {
   "cell_type": "code",
   "execution_count": null,
   "id": "f28020c0-7215-4b15-80c0-b3c20e498377",
   "metadata": {},
   "outputs": [],
   "source": [
    "m,n = df.shape #shape works the same as np arrays"
   ]
  },
  {
   "cell_type": "code",
   "execution_count": null,
   "id": "612dcc1a-5a08-414c-a712-289f7c758f8d",
   "metadata": {},
   "outputs": [],
   "source": [
    "df['dummy'] = np.random.rand(m,1) "
   ]
  },
  {
   "cell_type": "code",
   "execution_count": null,
   "id": "1c413fac-5d35-43c7-9348-6d9b0e6ffeb9",
   "metadata": {},
   "outputs": [],
   "source": [
    "df.head()"
   ]
  }
 ],
 "metadata": {
  "kernelspec": {
   "display_name": "Python [conda env:base] *",
   "language": "python",
   "name": "conda-base-py"
  },
  "language_info": {
   "codemirror_mode": {
    "name": "ipython",
    "version": 3
   },
   "file_extension": ".py",
   "mimetype": "text/x-python",
   "name": "python",
   "nbconvert_exporter": "python",
   "pygments_lexer": "ipython3",
   "version": "3.12.3"
  }
 },
 "nbformat": 4,
 "nbformat_minor": 5
}
