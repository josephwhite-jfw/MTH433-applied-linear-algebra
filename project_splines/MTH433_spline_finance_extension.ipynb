{
 "cells": [
  {
   "cell_type": "code",
   "execution_count": 1,
   "id": "e61c55e8-0c7c-4899-9456-168dcfcd0710",
   "metadata": {},
   "outputs": [],
   "source": [
    "import pandas as pd\n",
    "import numpy as np\n",
    "import pandas_datareader.data as web\n",
    "import datetime"
   ]
  },
  {
   "cell_type": "code",
   "execution_count": 2,
   "id": "34f31101-4dd0-475f-b6a6-1372543f55fc",
   "metadata": {},
   "outputs": [],
   "source": [
    "# Start with a date range - Last 30 days \n",
    "start = datetime.datetime.today() - datetime.timedelta(days=30)\n",
    "end   = datetime.datetime.today()\n",
    "\n",
    "tickers = [\"DGS1MO\", \"DGS3MO\", \"DGS6MO\", \"DGS1\", \"DGS2\", \"DGS5\", \"DGS10\", \"DGS20\", \"DGS30\"]\n",
    "df = web.DataReader(tickers, \"fred\", start, end)"
   ]
  },
  {
   "cell_type": "code",
   "execution_count": 3,
   "id": "2303b245-c49e-44fa-94a0-dca9a8f35211",
   "metadata": {},
   "outputs": [
    {
     "name": "stdout",
     "output_type": "stream",
     "text": [
      "[[ 0.08333333  4.2       ]\n",
      " [ 0.25        4.02      ]\n",
      " [ 0.5         3.83      ]\n",
      " [ 1.          3.68      ]\n",
      " [ 2.          3.6       ]\n",
      " [ 5.          3.74      ]\n",
      " [10.          4.16      ]\n",
      " [20.          4.71      ]\n",
      " [30.          4.73      ]]\n"
     ]
    }
   ],
   "source": [
    "# Drop missing rows and get the most recent dates row \n",
    "df = df.dropna()\n",
    "latest = df.iloc[-1]\n",
    "\n",
    "# Define maturities in years for the x - coords \n",
    "maturities = np.array([1/12, 0.25, 0.5, 1, 2, 5, 10, 20, 30])  # years\n",
    "\n",
    "# Get yields in % for the y - coords \n",
    "yields = latest.values\n",
    "\n",
    "# Stack into an (n x 2) NumPy array\n",
    "Y = np.column_stack([maturities, yields])\n",
    "print(Y)"
   ]
  },
  {
   "cell_type": "code",
   "execution_count": 7,
   "id": "d99706ee-5a75-4e9f-aa19-0ac7ec47c1eb",
   "metadata": {},
   "outputs": [],
   "source": [
    "def coeff(Y):\n",
    "    \"\"\"\n",
    "    Parameters\n",
    "    ----------\n",
    "    Y : (n,2) numpy array\n",
    "        Column 0 = x (maturities)\n",
    "        Column 1 = y (yields)\n",
    "\n",
    "    Returns\n",
    "    -------\n",
    "    coeffs : (2n-2, 4) numpy array\n",
    "    uses natural boundary conditions\n",
    "    \"\"\"\n",
    "    \n",
    "    x = Y[:, 0]   # maturities\n",
    "    y = Y[:, 1]   # yields\n",
    "    n = x.shape[0]\n",
    "\n",
    "    h = np.diff(x)\n",
    "\n",
    "    # ---------------------------\n",
    "    # Build A\n",
    "    # ---------------------------\n",
    "    main_diag = 2 * (h[:-1] + h[1:])\n",
    "    off_diag = h[1:-1]\n",
    "    A = np.diag(main_diag) + np.diag(off_diag, 1) + np.diag(off_diag, -1)\n",
    "\n",
    "    # ---------------------------\n",
    "    # Build z\n",
    "    # ---------------------------\n",
    "    diff_x = h\n",
    "    diff_y = np.diff(y)\n",
    "\n",
    "    z_x = 6 * (diff_x[1:] / h[1:] - diff_x[:-1] / h[:-1])\n",
    "    z_y = 6 * (diff_y[1:] / h[1:] - diff_y[:-1] / h[:-1])\n",
    "\n",
    "    z = np.column_stack([z_x, z_y])\n",
    "\n",
    "    # ---------------------------\n",
    "    # Solve Ac = z\n",
    "    # ---------------------------\n",
    "    c = np.linalg.solve(A,z)\n",
    "    c_x = np.zeros(n); c_y = np.zeros(n)\n",
    "    c_x[1:-1] = c[:, 0]\n",
    "    c_y[1:-1] = c[:, 1]\n",
    "\n",
    "    # ---------------------------\n",
    "    # Find Coefficients\n",
    "    # ---------------------------\n",
    "    a_x = x[:-1]\n",
    "    b_x = (diff_x / h) - (h/6) * (2*c_x[:-1] + c_x[1:])\n",
    "    c_x_coef = c_x[:-1] / 2\n",
    "    d_x = (c_x[1:] - c_x[:-1]) / (6*h)\n",
    "\n",
    "    a_y = y[:-1]\n",
    "    b_y = (diff_y / h) - (h/6) * (2*c_y[:-1] + c_y[1:])\n",
    "    c_y_coef = c_y[:-1] / 2.0\n",
    "    d_y = (c_y[1:] - c_y[:-1]) / (6*h)\n",
    "\n",
    "    coeff_x = np.column_stack([a_x, b_x, c_x_coef, d_x])\n",
    "    coeff_y = np.column_stack([a_y, b_y, c_y_coef, d_y])\n",
    "\n",
    "    return np.vstack([coeff_x, coeff_y])"
   ]
  }
 ],
 "metadata": {
  "kernelspec": {
   "display_name": "Python 3 (ipykernel)",
   "language": "python",
   "name": "python3"
  },
  "language_info": {
   "codemirror_mode": {
    "name": "ipython",
    "version": 3
   },
   "file_extension": ".py",
   "mimetype": "text/x-python",
   "name": "python",
   "nbconvert_exporter": "python",
   "pygments_lexer": "ipython3",
   "version": "3.13.2"
  }
 },
 "nbformat": 4,
 "nbformat_minor": 5
}
