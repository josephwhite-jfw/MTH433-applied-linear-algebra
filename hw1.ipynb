{
 "cells": [
  {
   "cell_type": "markdown",
   "id": "76973d00-6794-48f6-ba5d-3ebba78060a9",
   "metadata": {},
   "source": [
    "# Joe White - 08/27/2025"
   ]
  },
  {
   "cell_type": "code",
   "execution_count": 1,
   "id": "ed8de4a8-4b5a-43a3-b6e4-292fbe49c82f",
   "metadata": {},
   "outputs": [],
   "source": [
    "import numpy as np"
   ]
  },
  {
   "cell_type": "code",
   "execution_count": 2,
   "id": "9f1cb516-0069-476a-83d5-e39f171b2940",
   "metadata": {},
   "outputs": [
    {
     "name": "stdout",
     "output_type": "stream",
     "text": [
      "[[0.05088006 0.37998928 0.95163541 0.37923522 0.90001866]\n",
      " [0.58084841 0.41524571 0.86249792 0.74583953 0.98161092]\n",
      " [0.93041672 0.75012244 0.82377483 0.41797184 0.20587266]\n",
      " [0.50258761 0.590261   0.0502546  0.66512394 0.32397548]]\n"
     ]
    }
   ],
   "source": [
    "A = np.random.rand(4,5)\n",
    "print(A)"
   ]
  },
  {
   "cell_type": "code",
   "execution_count": 3,
   "id": "1617452e-383d-4cf4-b143-cefbe84f6ba7",
   "metadata": {},
   "outputs": [
    {
     "name": "stdout",
     "output_type": "stream",
     "text": [
      "[[0.95163541 0.37923522 0.90001866]\n",
      " [0.86249792 0.74583953 0.98161092]]\n"
     ]
    }
   ],
   "source": [
    "B = A[0:2,2:6]\n",
    "print(B)"
   ]
  },
  {
   "cell_type": "code",
   "execution_count": 10,
   "id": "d142adfa-3bbc-42e6-93dc-e7849ba6843e",
   "metadata": {},
   "outputs": [
    {
     "name": "stdout",
     "output_type": "stream",
     "text": [
      "[ 0  1  2  3  4  5  6  7  8  9 10 11 12 13]\n",
      "[[ 0  1  2  3  4  5  6]\n",
      " [ 7  8  9 10 11 12 13]]\n",
      "[[ 0  7]\n",
      " [ 1  8]\n",
      " [ 2  9]\n",
      " [ 3 10]\n",
      " [ 4 11]\n",
      " [ 5 12]\n",
      " [ 6 13]]\n"
     ]
    }
   ],
   "source": [
    "array = np.array(range(14))\n",
    "print(array)\n",
    "C = np.reshape(array,(2,7))\n",
    "print(C)\n",
    "CT = C.T\n",
    "print(CT)"
   ]
  }
 ],
 "metadata": {
  "kernelspec": {
   "display_name": "Python [conda env:base] *",
   "language": "python",
   "name": "conda-base-py"
  },
  "language_info": {
   "codemirror_mode": {
    "name": "ipython",
    "version": 3
   },
   "file_extension": ".py",
   "mimetype": "text/x-python",
   "name": "python",
   "nbconvert_exporter": "python",
   "pygments_lexer": "ipython3",
   "version": "3.12.3"
  }
 },
 "nbformat": 4,
 "nbformat_minor": 5
}
