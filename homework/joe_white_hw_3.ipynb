{
 "cells": [
  {
   "cell_type": "code",
   "execution_count": 1,
   "id": "d1df1258-8ca9-4fcc-9995-cd3dbe3384c8",
   "metadata": {},
   "outputs": [],
   "source": [
    "import numpy as np, pandas as pd "
   ]
  },
  {
   "cell_type": "code",
   "execution_count": 2,
   "id": "88e263d2-d08d-42dc-a994-1912dcb78a5f",
   "metadata": {},
   "outputs": [],
   "source": [
    "def func1(y):\n",
    "    \"\"\"y is an array with n rows. Multiplies 3 times the last n-2 rows,\n",
    "    adds 3 times the first n-2 rows, and subtracts 6 times the middle n-2 rows\n",
    "\n",
    "    Parameters\n",
    "    ----------\n",
    "    y : np array\n",
    "\n",
    "    Returns\n",
    "    -------\n",
    "    np array\n",
    "    \"\"\"\n",
    "    return 3 * y[2:] + 3 * y[:-2] - 6 * y[1:-1]"
   ]
  },
  {
   "cell_type": "code",
   "execution_count": 9,
   "id": "9766e0e4-a250-4f35-a396-a47207689276",
   "metadata": {},
   "outputs": [],
   "source": [
    "def func2(y):\n",
    "    \"\"\"y is an n x 2 array. Stacks the first column of y on top of the last column of y\n",
    "\n",
    "    Parameters\n",
    "    ----------\n",
    "    y : np array\n",
    "\n",
    "    Returns\n",
    "    -------\n",
    "    np array\n",
    "    \"\"\"\n",
    "    first_col = y[:,0:1]\n",
    "    last_col  = y[:,-1:]\n",
    "    return np.vstack((first_col, last_col))"
   ]
  }
 ],
 "metadata": {
  "kernelspec": {
   "display_name": "Python 3 (ipykernel)",
   "language": "python",
   "name": "python3"
  },
  "language_info": {
   "codemirror_mode": {
    "name": "ipython",
    "version": 3
   },
   "file_extension": ".py",
   "mimetype": "text/x-python",
   "name": "python",
   "nbconvert_exporter": "python",
   "pygments_lexer": "ipython3",
   "version": "3.13.2"
  }
 },
 "nbformat": 4,
 "nbformat_minor": 5
}
