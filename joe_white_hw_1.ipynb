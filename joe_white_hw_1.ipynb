{
 "cells": [
  {
   "cell_type": "markdown",
   "id": "76973d00-6794-48f6-ba5d-3ebba78060a9",
   "metadata": {},
   "source": [
    "# Joe White - 08/27/2025"
   ]
  },
  {
   "cell_type": "code",
   "execution_count": 1,
   "id": "ed8de4a8-4b5a-43a3-b6e4-292fbe49c82f",
   "metadata": {},
   "outputs": [],
   "source": [
    "import numpy as np"
   ]
  },
  {
   "cell_type": "code",
   "execution_count": 2,
   "id": "9f1cb516-0069-476a-83d5-e39f171b2940",
   "metadata": {},
   "outputs": [
    {
     "name": "stdout",
     "output_type": "stream",
     "text": [
      "[[0.72516157 0.56374838 0.45340838 0.99054926 0.08928937]\n",
      " [0.99046304 0.15355113 0.14101611 0.26308305 0.91574247]\n",
      " [0.27001292 0.04927597 0.14091724 0.38193798 0.43444507]\n",
      " [0.97396463 0.68455709 0.07995577 0.79154061 0.50817398]]\n"
     ]
    }
   ],
   "source": [
    "A = np.random.rand(4,5)\n",
    "print(A)"
   ]
  },
  {
   "cell_type": "code",
   "execution_count": 3,
   "id": "1617452e-383d-4cf4-b143-cefbe84f6ba7",
   "metadata": {},
   "outputs": [
    {
     "name": "stdout",
     "output_type": "stream",
     "text": [
      "[[0.45340838 0.99054926 0.08928937]\n",
      " [0.14101611 0.26308305 0.91574247]]\n"
     ]
    }
   ],
   "source": [
    "B = A[:2, -3:]\n",
    "print(B)"
   ]
  },
  {
   "cell_type": "code",
   "execution_count": 4,
   "id": "d142adfa-3bbc-42e6-93dc-e7849ba6843e",
   "metadata": {},
   "outputs": [
    {
     "name": "stdout",
     "output_type": "stream",
     "text": [
      "Matrix C:\n",
      "[[ 0  1  2  3  4  5  6]\n",
      " [ 7  8  9 10 11 12 13]] \n",
      "\n",
      "C*C^T:\n",
      "[[ 91 238]\n",
      " [238 728]] \n",
      "\n",
      "C^T*C:\n",
      "[[ 49  56  63  70  77  84  91]\n",
      " [ 56  65  74  83  92 101 110]\n",
      " [ 63  74  85  96 107 118 129]\n",
      " [ 70  83  96 109 122 135 148]\n",
      " [ 77  92 107 122 137 152 167]\n",
      " [ 84 101 118 135 152 169 186]\n",
      " [ 91 110 129 148 167 186 205]]\n"
     ]
    }
   ],
   "source": [
    "array = np.array(range(14))\n",
    "C = array.reshape(2, 7)\n",
    "\n",
    "CCt = C @ C.T\n",
    "CtC = C.T @ C\n",
    "\n",
    "print(\"Matrix C:\")\n",
    "print(C, \"\\n\")\n",
    "\n",
    "print(\"C*C^T:\")\n",
    "print(CCt, \"\\n\")\n",
    "\n",
    "print(\"C^T*C:\")\n",
    "print(CtC)"
   ]
  },
  {
   "cell_type": "code",
   "execution_count": 5,
   "id": "e6693c89-adba-47b7-a60a-e142e8c89011",
   "metadata": {},
   "outputs": [
    {
     "name": "stdout",
     "output_type": "stream",
     "text": [
      "The Shape of C^T*C is: (7, 7)\n"
     ]
    }
   ],
   "source": [
    "print(\"The Shape of C^T*C is:\", CtC.shape)"
   ]
  }
 ],
 "metadata": {
  "kernelspec": {
   "display_name": "Python [conda env:base] *",
   "language": "python",
   "name": "conda-base-py"
  },
  "language_info": {
   "codemirror_mode": {
    "name": "ipython",
    "version": 3
   },
   "file_extension": ".py",
   "mimetype": "text/x-python",
   "name": "python",
   "nbconvert_exporter": "python",
   "pygments_lexer": "ipython3",
   "version": "3.12.3"
  }
 },
 "nbformat": 4,
 "nbformat_minor": 5
}
