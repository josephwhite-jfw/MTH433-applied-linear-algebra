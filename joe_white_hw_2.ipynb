{
 "cells": [
  {
   "cell_type": "markdown",
   "id": "a2c8ebf6-dc17-4121-8e65-846eae35e40e",
   "metadata": {},
   "source": [
    "## Execute all of these cells and understand what is happening. I only use commands from the MatrixBasics Notebook. Do the 6 exercises at the end of the Notebook and turn it in.  "
   ]
  },
  {
   "cell_type": "code",
   "execution_count": 1,
   "id": "12253ccf-629a-4540-be9d-e56d47061160",
   "metadata": {},
   "outputs": [],
   "source": [
    "import numpy as np"
   ]
  },
  {
   "cell_type": "code",
   "execution_count": 2,
   "id": "fcaac046-e625-4bea-aafe-5795bd257d2e",
   "metadata": {},
   "outputs": [],
   "source": [
    "A = np.array(range(-7,5)).reshape((6,2))"
   ]
  },
  {
   "cell_type": "code",
   "execution_count": 3,
   "id": "10ef143f-f6d1-44d1-8c12-9ea99e5b8ac7",
   "metadata": {},
   "outputs": [
    {
     "data": {
      "text/plain": [
       "array([[-7, -6],\n",
       "       [-5, -4],\n",
       "       [-3, -2],\n",
       "       [-1,  0],\n",
       "       [ 1,  2],\n",
       "       [ 3,  4]])"
      ]
     },
     "execution_count": 3,
     "metadata": {},
     "output_type": "execute_result"
    }
   ],
   "source": [
    "A"
   ]
  },
  {
   "cell_type": "code",
   "execution_count": 4,
   "id": "204365e7-b959-4ae0-93a9-ac742eee2dbe",
   "metadata": {},
   "outputs": [
    {
     "data": {
      "text/plain": [
       "(6, 2)"
      ]
     },
     "execution_count": 4,
     "metadata": {},
     "output_type": "execute_result"
    }
   ],
   "source": [
    "A.shape"
   ]
  },
  {
   "cell_type": "code",
   "execution_count": 5,
   "id": "01f305e0-1d3f-4ae7-95d3-df26f9ae9f33",
   "metadata": {},
   "outputs": [],
   "source": [
    "B = A[0:2]"
   ]
  },
  {
   "cell_type": "code",
   "execution_count": 6,
   "id": "ec2cdf6a-81c7-492a-8251-786e2dc79ff0",
   "metadata": {},
   "outputs": [
    {
     "data": {
      "text/plain": [
       "array([[-7, -6],\n",
       "       [-5, -4]])"
      ]
     },
     "execution_count": 6,
     "metadata": {},
     "output_type": "execute_result"
    }
   ],
   "source": [
    "B"
   ]
  },
  {
   "cell_type": "code",
   "execution_count": 7,
   "id": "73216b40-15c9-44c7-ac16-2f11b9a29d6e",
   "metadata": {},
   "outputs": [
    {
     "data": {
      "text/plain": [
       "(2, 2)"
      ]
     },
     "execution_count": 7,
     "metadata": {},
     "output_type": "execute_result"
    }
   ],
   "source": [
    "B.shape"
   ]
  },
  {
   "cell_type": "code",
   "execution_count": 8,
   "id": "d93c7908-42be-4ea6-a247-669a5d7ec44e",
   "metadata": {},
   "outputs": [
    {
     "name": "stdout",
     "output_type": "stream",
     "text": [
      "[-7 -5 -3 -1  1  3]\n",
      "[[-7]\n",
      " [-5]\n",
      " [-3]\n",
      " [-1]\n",
      " [ 1]\n",
      " [ 3]]\n",
      "[-6 -4 -2  0  2  4]\n",
      "[[-6]\n",
      " [-4]\n",
      " [-2]\n",
      " [ 0]\n",
      " [ 2]\n",
      " [ 4]]\n"
     ]
    }
   ],
   "source": [
    "C = A[:,0]\n",
    "D = A[:,0:1]\n",
    "E = A[:,-1]\n",
    "F = A[:,1:]\n",
    "for matrix in [C,D,E,F]:\n",
    "    print(matrix)"
   ]
  },
  {
   "cell_type": "markdown",
   "id": "4e12d324-b845-48c4-90c2-caea2a7e2530",
   "metadata": {},
   "source": [
    "## One might expect that C and D would be the same (but they aren't, see above).  Check out their shapes "
   ]
  },
  {
   "cell_type": "code",
   "execution_count": 9,
   "id": "ce8fbad4-b8d5-42a2-bed6-2ebd2fac22d1",
   "metadata": {},
   "outputs": [
    {
     "data": {
      "text/plain": [
       "(6,)"
      ]
     },
     "execution_count": 9,
     "metadata": {},
     "output_type": "execute_result"
    }
   ],
   "source": [
    "C.shape"
   ]
  },
  {
   "cell_type": "code",
   "execution_count": 10,
   "id": "3f5a7916-360c-47ed-be25-67a105288a67",
   "metadata": {},
   "outputs": [
    {
     "data": {
      "text/plain": [
       "(6, 1)"
      ]
     },
     "execution_count": 10,
     "metadata": {},
     "output_type": "execute_result"
    }
   ],
   "source": [
    "D.shape"
   ]
  },
  {
   "cell_type": "code",
   "execution_count": 11,
   "id": "fb35678c-2b68-4902-b2e9-76689913e113",
   "metadata": {},
   "outputs": [
    {
     "data": {
      "text/plain": [
       "(6,)"
      ]
     },
     "execution_count": 11,
     "metadata": {},
     "output_type": "execute_result"
    }
   ],
   "source": [
    "E.shape"
   ]
  },
  {
   "cell_type": "code",
   "execution_count": 12,
   "id": "a51ba6df-3945-4b04-89eb-54fa46bdc27e",
   "metadata": {},
   "outputs": [
    {
     "data": {
      "text/plain": [
       "(6, 1)"
      ]
     },
     "execution_count": 12,
     "metadata": {},
     "output_type": "execute_result"
    }
   ],
   "source": [
    "F.shape"
   ]
  },
  {
   "cell_type": "markdown",
   "id": "9853457a-ff67-4738-abd2-e820bbe9f8d7",
   "metadata": {},
   "source": [
    "## Sometimes it doesn't matter if you use C or D but sometimes it does.  For example:"
   ]
  },
  {
   "cell_type": "code",
   "execution_count": 13,
   "id": "d410e69a-f0d1-4a19-b821-15199febeea4",
   "metadata": {},
   "outputs": [],
   "source": [
    "G = np.vstack((C,E))\n",
    "H = np.vstack((D,F))"
   ]
  },
  {
   "cell_type": "code",
   "execution_count": 14,
   "id": "795a51e0-0fd2-4ae4-b92f-a6c428ef41e6",
   "metadata": {},
   "outputs": [
    {
     "data": {
      "text/plain": [
       "array([[-7, -5, -3, -1,  1,  3],\n",
       "       [-6, -4, -2,  0,  2,  4]])"
      ]
     },
     "execution_count": 14,
     "metadata": {},
     "output_type": "execute_result"
    }
   ],
   "source": [
    "G"
   ]
  },
  {
   "cell_type": "code",
   "execution_count": 15,
   "id": "0d31e51a-e526-4a30-9a8d-3a40a6fe33d1",
   "metadata": {},
   "outputs": [
    {
     "data": {
      "text/plain": [
       "array([[-7],\n",
       "       [-5],\n",
       "       [-3],\n",
       "       [-1],\n",
       "       [ 1],\n",
       "       [ 3],\n",
       "       [-6],\n",
       "       [-4],\n",
       "       [-2],\n",
       "       [ 0],\n",
       "       [ 2],\n",
       "       [ 4]])"
      ]
     },
     "execution_count": 15,
     "metadata": {},
     "output_type": "execute_result"
    }
   ],
   "source": [
    "H"
   ]
  },
  {
   "cell_type": "code",
   "execution_count": 16,
   "id": "5514590f-667c-452a-bd47-fde331ba9b44",
   "metadata": {},
   "outputs": [
    {
     "data": {
      "text/plain": [
       "(2, 6)"
      ]
     },
     "execution_count": 16,
     "metadata": {},
     "output_type": "execute_result"
    }
   ],
   "source": [
    "G.shape"
   ]
  },
  {
   "cell_type": "code",
   "execution_count": 17,
   "id": "66312527-8751-4677-9000-7757cd589f32",
   "metadata": {},
   "outputs": [
    {
     "data": {
      "text/plain": [
       "(12, 1)"
      ]
     },
     "execution_count": 17,
     "metadata": {},
     "output_type": "execute_result"
    }
   ],
   "source": [
    "H.shape"
   ]
  },
  {
   "cell_type": "markdown",
   "id": "f4ae81ba-7cde-4795-916f-3081888f5652",
   "metadata": {},
   "source": [
    "## Perform the following operations using indexing, matrix operations and vstack/hstack.  Do not make any matrices \"by hand\" "
   ]
  },
  {
   "cell_type": "code",
   "execution_count": 18,
   "id": "284b3f31-dcf8-4220-a0e1-685bc11ad0da",
   "metadata": {},
   "outputs": [
    {
     "name": "stdout",
     "output_type": "stream",
     "text": [
      "[[-6 -5]\n",
      " [-4 -3]\n",
      " [-2 -1]\n",
      " [ 0  1]\n",
      " [ 2  3]\n",
      " [ 4  5]]\n",
      "\n",
      "[[ 3  4]\n",
      " [ 5  6]\n",
      " [ 7  8]\n",
      " [ 9 10]\n",
      " [11 12]\n",
      " [13 14]]\n",
      "\n"
     ]
    }
   ],
   "source": [
    "X = np.array(range(-6,6)).reshape((6,2))\n",
    "Y = np.array(range(3,15)).reshape((6,2))\n",
    "\n",
    "print(f\"{X}\\n\")\n",
    "print(f\"{Y}\\n\")"
   ]
  },
  {
   "cell_type": "markdown",
   "id": "153f37c7-e135-47be-abd2-342febe9e3d5",
   "metadata": {},
   "source": [
    "This is what I'm looking for on these problems:\n",
    "\n",
    "Sample Problem: Multiply the last column of X by the traspose of the first column of Y\n",
    "\n",
    "Sample Answer:"
   ]
  },
  {
   "cell_type": "code",
   "execution_count": 19,
   "id": "f2600257-2428-4f7d-9a0e-5a1c8d73c685",
   "metadata": {},
   "outputs": [
    {
     "data": {
      "text/plain": [
       "array([[-15, -25, -35, -45, -55, -65],\n",
       "       [ -9, -15, -21, -27, -33, -39],\n",
       "       [ -3,  -5,  -7,  -9, -11, -13],\n",
       "       [  3,   5,   7,   9,  11,  13],\n",
       "       [  9,  15,  21,  27,  33,  39],\n",
       "       [ 15,  25,  35,  45,  55,  65]])"
      ]
     },
     "execution_count": 19,
     "metadata": {},
     "output_type": "execute_result"
    }
   ],
   "source": [
    "X[:,1:] @ Y[:,0:1].T"
   ]
  },
  {
   "cell_type": "markdown",
   "id": "2ef0e57c-deb0-4a9f-8538-da2cc832e2f4",
   "metadata": {},
   "source": [
    "1. Add the first 5 rows of X to the last 5 rows of X (so the result should have shape (5,2))\n",
    "2. Add the second column of X to the first column of X (so the result should have shape (6,1))\n",
    "3. Stack the first column of X on top of the second column of Y (so the result should have shape (12,1))\n",
    "4. Stack the first column of Y to the left of the first column of X (so the result should have shape (6,2))\n",
    "5. Add the first 4 rows of Y, the middle four rows of Y and the last 4 rows of Y together (so the result should have shape (4,2))\n",
    "6. Subtract 3 times the middle 4 rows of Y from 1/2 the last 4 rows of X\n",
    "7. Stack the first 4 rows of X on top of the last 4 rows of Y"
   ]
  },
  {
   "cell_type": "code",
   "execution_count": 20,
   "id": "b6e67bdf-5924-4d6e-933f-704f7184cd24",
   "metadata": {},
   "outputs": [
    {
     "name": "stdout",
     "output_type": "stream",
     "text": [
      "----- Question 1 -----\n",
      "[[-10  -8]\n",
      " [ -6  -4]\n",
      " [ -2   0]\n",
      " [  2   4]\n",
      " [  6   8]]\n",
      "\n",
      "(5, 2)\n",
      "\n",
      "----- Question 2 -----\n",
      "[[-11]\n",
      " [ -7]\n",
      " [ -3]\n",
      " [  1]\n",
      " [  5]\n",
      " [  9]]\n",
      "\n",
      "(6, 1)\n",
      "\n",
      "----- Question 3 -----\n",
      "[[-6]\n",
      " [-4]\n",
      " [-2]\n",
      " [ 0]\n",
      " [ 2]\n",
      " [ 4]\n",
      " [ 4]\n",
      " [ 6]\n",
      " [ 8]\n",
      " [10]\n",
      " [12]\n",
      " [14]]\n",
      "\n",
      "(12, 1)\n",
      "\n",
      "----- Question 4 -----\n",
      "[[ 3 -6]\n",
      " [ 5 -4]\n",
      " [ 7 -2]\n",
      " [ 9  0]\n",
      " [11  2]\n",
      " [13  4]]\n",
      "\n",
      "(6, 2)\n",
      "\n",
      "----- Question 5 -----\n",
      "[[15 18]\n",
      " [21 24]\n",
      " [27 30]\n",
      " [33 36]]\n",
      "\n",
      "(4, 2)\n",
      "\n",
      "----- Question 6 -----\n",
      "[[-16.  -18.5]\n",
      " [-21.  -23.5]\n",
      " [-26.  -28.5]\n",
      " [-31.  -33.5]]\n",
      "\n",
      "(4, 2)\n",
      "\n",
      "----- Question 7 -----\n",
      "[[-6 -5]\n",
      " [-4 -3]\n",
      " [-2 -1]\n",
      " [ 0  1]\n",
      " [ 7  8]\n",
      " [ 9 10]\n",
      " [11 12]\n",
      " [13 14]]\n",
      "\n",
      "(8, 2)\n",
      "\n"
     ]
    }
   ],
   "source": [
    "# Question 1\n",
    "print(\"----- Question 1 -----\")\n",
    "Q1 = X[0:5, :] + X[1:6, :]\n",
    "print(f\"{Q1}\\n\")\n",
    "print(f\"{Q1.shape}\\n\")\n",
    "\n",
    "# Question 2\n",
    "print(\"----- Question 2 -----\")\n",
    "Q2 = X[:, 0:1] + X[:, 1:2]\n",
    "print(f\"{Q2}\\n\")\n",
    "print(f\"{Q2.shape}\\n\")\n",
    "\n",
    "# Question 3\n",
    "print(\"----- Question 3 -----\")\n",
    "a = X[:,0:1]\n",
    "b = Y[:,1:]\n",
    "Q3 = np.vstack((a,b))\n",
    "print(f\"{Q3}\\n\")\n",
    "print(f\"{Q3.shape}\\n\")\n",
    "\n",
    "# Question 4\n",
    "print(\"----- Question 4 -----\")\n",
    "c = Y[:,0:1]\n",
    "d = X[:,0:1]\n",
    "Q4 = np.hstack((c,d))\n",
    "print(f\"{Q4}\\n\")\n",
    "print(f\"{Q4.shape}\\n\")\n",
    "\n",
    "# Question 5\n",
    "print(\"----- Question 5 -----\")\n",
    "Q5 = Y[0:4, :] + Y[1:5, :] + Y[2:6, :]\n",
    "print(f\"{Q5}\\n\")\n",
    "print(f\"{Q5.shape}\\n\")\n",
    "\n",
    "# Question 6\n",
    "print(\"----- Question 6 -----\")\n",
    "Q6 = (1/2)*X[2:6,:] - 3*Y[1:5, :]\n",
    "print(f\"{Q6}\\n\")\n",
    "print(f\"{Q6.shape}\\n\")\n",
    "\n",
    "# Question 7\n",
    "print(\"----- Question 7 -----\")\n",
    "e = X[0:4,:]\n",
    "f = Y[2:6, :]\n",
    "Q7 = np.vstack((e,f))\n",
    "print(f\"{Q7}\\n\")\n",
    "print(f\"{Q7.shape}\\n\")"
   ]
  }
 ],
 "metadata": {
  "kernelspec": {
   "display_name": "Python [conda env:base] *",
   "language": "python",
   "name": "conda-base-py"
  },
  "language_info": {
   "codemirror_mode": {
    "name": "ipython",
    "version": 3
   },
   "file_extension": ".py",
   "mimetype": "text/x-python",
   "name": "python",
   "nbconvert_exporter": "python",
   "pygments_lexer": "ipython3",
   "version": "3.12.3"
  }
 },
 "nbformat": 4,
 "nbformat_minor": 5
}
