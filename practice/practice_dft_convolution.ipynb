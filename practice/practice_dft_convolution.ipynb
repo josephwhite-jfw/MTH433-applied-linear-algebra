{
 "cells": [
  {
   "cell_type": "code",
   "execution_count": 6,
   "id": "1f57c684-bc95-4f95-bf58-e534862e8e5a",
   "metadata": {},
   "outputs": [],
   "source": [
    "import numpy as np"
   ]
  },
  {
   "cell_type": "code",
   "execution_count": 7,
   "id": "47d300ed-e2be-4bcc-8b5f-9bb07d4481bb",
   "metadata": {},
   "outputs": [
    {
     "name": "stdout",
     "output_type": "stream",
     "text": [
      "[ 3.+0.j -1.+2.j  3.+0.j -1.-2.j]\n"
     ]
    }
   ],
   "source": [
    "A = np.array([1,-1,2,1])\n",
    "dftA = np.fft.fft(A)\n",
    "print(dftA)"
   ]
  },
  {
   "cell_type": "code",
   "execution_count": 18,
   "id": "f2d90f19-93af-4127-8c64-0e50a8d9b012",
   "metadata": {},
   "outputs": [
    {
     "name": "stdout",
     "output_type": "stream",
     "text": [
      "[ 0.75+0.000000e+00j -0.25+5.000000e-01j  0.75+6.123234e-17j\n",
      " -0.25-5.000000e-01j]\n"
     ]
    }
   ],
   "source": [
    "f = np.array([1,-1,2,1])\n",
    "n = f.size\n",
    "\n",
    "k = np.arange(n)[:,None]\n",
    "p = np.arange(n)[None,:]\n",
    "\n",
    "zeta = np.exp(-2j * np.pi * k * p / n)\n",
    "\n",
    "F = (zeta.T@f)/n\n",
    "print(F)"
   ]
  },
  {
   "cell_type": "code",
   "execution_count": 19,
   "id": "2a88afa3-b7a9-4056-9f7b-3d508c47b2dc",
   "metadata": {},
   "outputs": [
    {
     "name": "stdout",
     "output_type": "stream",
     "text": [
      "[12 22 19  8  2]\n"
     ]
    }
   ],
   "source": [
    "f = np.array([4,2,1])\n",
    "g = np.array([3,4,2])\n",
    "\n",
    "ftensorg = np.convolve(f,g)\n",
    "print(ftensorg)"
   ]
  },
  {
   "cell_type": "code",
   "execution_count": null,
   "id": "5a162fad-8a62-46c0-84bc-8eb59f19614e",
   "metadata": {},
   "outputs": [],
   "source": []
  }
 ],
 "metadata": {
  "kernelspec": {
   "display_name": "Python 3 (ipykernel)",
   "language": "python",
   "name": "python3"
  },
  "language_info": {
   "codemirror_mode": {
    "name": "ipython",
    "version": 3
   },
   "file_extension": ".py",
   "mimetype": "text/x-python",
   "name": "python",
   "nbconvert_exporter": "python",
   "pygments_lexer": "ipython3",
   "version": "3.13.2"
  }
 },
 "nbformat": 4,
 "nbformat_minor": 5
}
