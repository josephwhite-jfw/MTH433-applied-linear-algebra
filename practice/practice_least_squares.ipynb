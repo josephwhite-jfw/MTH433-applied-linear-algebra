{
 "cells": [
  {
   "cell_type": "code",
   "execution_count": 23,
   "id": "f949ce85-cb11-49db-87f1-a55b7a44c4bc",
   "metadata": {},
   "outputs": [],
   "source": [
    "import numpy as np\n",
    "\n",
    "def adagger(A,b):\n",
    "    ATA = A.T@A\n",
    "    ATb = A.T@b\n",
    "    inv = np.linalg.inv(ATA)\n",
    "    return inv@ATb\n",
    "\n",
    "def a2dagger(A,b):\n",
    "    ATA = A.T@A\n",
    "    ATb = A.T@b\n",
    "    return np.linalg.solve(ATA,ATb)"
   ]
  },
  {
   "cell_type": "code",
   "execution_count": 26,
   "id": "913bcabc-951b-46c9-9b45-e9856a609bfc",
   "metadata": {},
   "outputs": [],
   "source": [
    "#5.4.1 \n",
    "\n",
    "A1 = np.array([1,2,1])\n",
    "b1 = np.array([1,1,0])\n",
    "\n",
    "z = A1.T@A1\n",
    "d = A1.T@b1\n",
    "x1_star = (A1 @ b1) / (A1 @ A1)"
   ]
  },
  {
   "cell_type": "code",
   "execution_count": 6,
   "id": "4a302284-a5f9-4904-88cc-3e91970b9f44",
   "metadata": {},
   "outputs": [],
   "source": [
    "# 5.4.5\n",
    "A = np.array([[1,2,-1],\n",
    "              [0,-2,3],\n",
    "              [1,5,-1],\n",
    "              [-3,1,1]\n",
    "             ])\n",
    "b = np.array([0,5,6,8])\n",
    "\n",
    "ATA = A.T@A\n",
    "ATb = A.T@b"
   ]
  },
  {
   "cell_type": "code",
   "execution_count": 9,
   "id": "faaa31ba-0f64-49b0-9595-be3fa5b8b9d9",
   "metadata": {},
   "outputs": [
    {
     "name": "stdout",
     "output_type": "stream",
     "text": [
      "[-1.  2.  3.]\n"
     ]
    }
   ],
   "source": [
    "xstar = np.linalg.solve(ATA,ATb)\n",
    "print(xstar)"
   ]
  },
  {
   "cell_type": "code",
   "execution_count": 20,
   "id": "a6758e9a-35a6-4359-970f-68318cbef85a",
   "metadata": {},
   "outputs": [
    {
     "name": "stdout",
     "output_type": "stream",
     "text": [
      "[-1.  2.  3.]\n"
     ]
    }
   ],
   "source": [
    "xstar = adagger(A,b)\n",
    "print(xstar)"
   ]
  },
  {
   "cell_type": "code",
   "execution_count": null,
   "id": "364b5ea0-327c-464b-b9d2-01b62faf555d",
   "metadata": {},
   "outputs": [],
   "source": [
    "A2 = "
   ]
  }
 ],
 "metadata": {
  "kernelspec": {
   "display_name": "Python 3 (ipykernel)",
   "language": "python",
   "name": "python3"
  },
  "language_info": {
   "codemirror_mode": {
    "name": "ipython",
    "version": 3
   },
   "file_extension": ".py",
   "mimetype": "text/x-python",
   "name": "python",
   "nbconvert_exporter": "python",
   "pygments_lexer": "ipython3",
   "version": "3.13.2"
  }
 },
 "nbformat": 4,
 "nbformat_minor": 5
}
