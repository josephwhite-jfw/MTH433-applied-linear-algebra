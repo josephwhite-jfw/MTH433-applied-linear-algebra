{
 "cells": [
  {
   "cell_type": "code",
   "execution_count": 1,
   "id": "d1fe7db1-1e9c-4014-82de-e7366672780a",
   "metadata": {},
   "outputs": [],
   "source": [
    "import numpy as np\n",
    "np.random.seed(23)"
   ]
  },
  {
   "cell_type": "markdown",
   "id": "1ff02537-c72d-4b8a-a90d-0749649a31ee",
   "metadata": {},
   "source": [
    "The [random seed](https://numpy.org/doc/2.0/reference/random/generated/numpy.random.seed.html) command above guarantees we are all looking at the same matrix but doesn't make me have to type in a bunch of numbers"
   ]
  },
  {
   "cell_type": "code",
   "execution_count": 2,
   "id": "581c1c4a-29d1-4827-b48e-89898774317d",
   "metadata": {},
   "outputs": [],
   "source": [
    "A = np.random.rand(5,2)\n",
    "Q,_ = np.linalg.qr(A) "
   ]
  },
  {
   "cell_type": "markdown",
   "id": "280e36c4-1499-47a2-8412-55430f1f6d89",
   "metadata": {},
   "source": [
    "The function [linalg.qr](https://numpy.org/doc/stable/reference/generated/numpy.linalg.qr.html) calculates the QR factorization of A.\n",
    "We will learn QR later, for now just know that col(Q)=col(A) and the columns of Q form an ONB. For these calculations I don't need the R so I signal that to you, the reader, by writing Q,_ = np.linalg.qr(A)."
   ]
  },
  {
   "cell_type": "markdown",
   "id": "b455d634-3305-4933-b537-59ca3551ddc9",
   "metadata": {},
   "source": [
    "1. Calculate the projection P onto col(A)\n",
    "2. Use P to find the vector $y^*\\in $col(A) that is closest to $\\left[ \\begin{array} -2 & 3 & 1 & 6 & 0 \\end{array}  \\right]^T$\n",
    "3. Caclulate the distance bewteen $y^*$ and col(A)"
   ]
  },
  {
   "cell_type": "markdown",
   "id": "6cfc0847-1c65-4458-b352-80ed9a83e2c1",
   "metadata": {},
   "source": [
    "4. Calculate the projections onto col(X) and col(Y). You should absolutely notice something. Use an idea from lecture on Wednesday, September 24 to explain what you notice in a markdown cell."
   ]
  },
  {
   "cell_type": "code",
   "execution_count": 3,
   "id": "31fdc507-63d7-4971-9482-5088274b3af8",
   "metadata": {},
   "outputs": [],
   "source": [
    "B = np.array([[3,-2],[1,7]])\n",
    "C = np.array([[12,0],[0.1245,3]])"
   ]
  },
  {
   "cell_type": "code",
   "execution_count": 4,
   "id": "33be76c6-f76a-4574-b4dc-9de7744f878a",
   "metadata": {},
   "outputs": [],
   "source": [
    "X = A@B\n",
    "Y = A@C"
   ]
  },
  {
   "cell_type": "code",
   "execution_count": 5,
   "id": "1542514c-6787-4a43-a470-893307eae4cc",
   "metadata": {},
   "outputs": [
    {
     "name": "stdout",
     "output_type": "stream",
     "text": [
      "y* =\n",
      " [[0.81962246]\n",
      " [1.5841792 ]\n",
      " [0.25677155]\n",
      " [0.23611708]\n",
      " [1.21806368]]\n",
      "||y - y*||_2 = 6.724078617046415\n"
     ]
    }
   ],
   "source": [
    "# 1) Projection onto col(A)\n",
    "P = Q @ Q.T\n",
    "\n",
    "# 2) Closest vector y* in col(A)\n",
    "y = np.array([-2, 3, 1, 6, 0.0]).reshape(-1,1)\n",
    "y_star = P @ y\n",
    "\n",
    "# 3) Distance\n",
    "dist = np.linalg.norm(y - y_star, 2)\n",
    "\n",
    "# Results\n",
    "print(\"y* =\\n\", y_star)\n",
    "print(\"||y - y*||_2 =\", float(dist))"
   ]
  },
  {
   "cell_type": "code",
   "execution_count": 6,
   "id": "c3a471cd-881a-415d-be35-21db54177664",
   "metadata": {},
   "outputs": [
    {
     "name": "stdout",
     "output_type": "stream",
     "text": [
      "P_X == P_A ? True\n",
      "P_Y == P_A ? True\n"
     ]
    }
   ],
   "source": [
    "# Projections\n",
    "Qx, _ = np.linalg.qr(X)\n",
    "Qy, _ = np.linalg.qr(Y)\n",
    "PX = Qx @ Qx.T\n",
    "PY = Qy @ Qy.T\n",
    "\n",
    "print(\"P_X == P_A ?\", np.allclose(PX, P))\n",
    "print(\"P_Y == P_A ?\", np.allclose(PY, P))"
   ]
  },
  {
   "cell_type": "markdown",
   "id": "db8b80a2-340b-4525-a7f4-26a51a68c2f1",
   "metadata": {},
   "source": [
    "The projection matrices are the same. Multiplying A by an invertible matrix changes the specific columns but does not change the span. Since the projection only depends on the subspace, projecting onto col(A), col(X), or col(Y) is the same."
   ]
  }
 ],
 "metadata": {
  "kernelspec": {
   "display_name": "Python 3 (ipykernel)",
   "language": "python",
   "name": "python3"
  },
  "language_info": {
   "codemirror_mode": {
    "name": "ipython",
    "version": 3
   },
   "file_extension": ".py",
   "mimetype": "text/x-python",
   "name": "python",
   "nbconvert_exporter": "python",
   "pygments_lexer": "ipython3",
   "version": "3.13.2"
  }
 },
 "nbformat": 4,
 "nbformat_minor": 5
}
