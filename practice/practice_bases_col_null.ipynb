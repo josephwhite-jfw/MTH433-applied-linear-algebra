{
 "cells": [
  {
   "cell_type": "code",
   "execution_count": 6,
   "id": "5dcd5de5-9190-442f-8a8d-7826caee8192",
   "metadata": {},
   "outputs": [],
   "source": [
    "import numpy as np\n",
    "from mth433 import row_reduce as rr\n",
    "\n",
    "def _find_pivots(R, tol=1e-12):\n",
    "    \"\"\"Pivot column indices from an RREF matrix R.\"\"\"\n",
    "    pivots = []\n",
    "    for i in range(R.shape[0]):\n",
    "        row = R[i]\n",
    "        nz = np.where(np.abs(row) > tol)[0]\n",
    "        if nz.size:\n",
    "            pivots.append(nz[0])\n",
    "    return pivots\n",
    "\n",
    "def basis_col_pivot(A, tol=1e-12):\n",
    "    \"\"\"\n",
    "    Basis for Col(A) using *pivot columns of the original A* (class style).\n",
    "    Returns (basis_columns_as_2D_array, pivot_indices_list).\n",
    "    \"\"\"\n",
    "    R = rr(A.astype(float).copy())\n",
    "    piv = _find_pivots(R, tol)\n",
    "    B = np.column_stack([A[:, j] for j in piv]) if piv else np.zeros((A.shape[0], 0))\n",
    "    return B, piv\n",
    "\n",
    "def basis_null_rref(A, tol=1e-12):\n",
    "    \"\"\"\n",
    "    Basis for Null(A) using RREF (one vector per free column).\n",
    "    Returns a 2D array with basis vectors as columns.\n",
    "    \"\"\"\n",
    "    R = rr(A.astype(float).copy())\n",
    "    m, n = R.shape\n",
    "    piv = _find_pivots(R, tol)\n",
    "    free = [j for j in range(n) if j not in piv]\n",
    "    if not free:\n",
    "        return np.zeros((n, 0))\n",
    "    # Build one vector per free var f\n",
    "    vecs = []\n",
    "    for f in free:\n",
    "        v = np.zeros(n)\n",
    "        v[f] = 1.0\n",
    "        # For each pivot row i with pivot col p, set x_p = -R[i,f]\n",
    "        for i, p in enumerate(piv):\n",
    "            coeff = R[i, f]\n",
    "            if abs(coeff) > tol:\n",
    "                v[p] = -coeff\n",
    "        vecs.append(v)\n",
    "    return np.column_stack(vecs)"
   ]
  },
  {
   "cell_type": "code",
   "execution_count": 7,
   "id": "60230e9c-786f-42e9-9b55-9dc84f22a609",
   "metadata": {},
   "outputs": [
    {
     "name": "stdout",
     "output_type": "stream",
     "text": [
      "Pivot columns: [0]\n",
      "Basis for Col(A1):\n",
      " [[1.]\n",
      " [2.]]\n",
      "Basis for Null(A1):\n",
      " [[3.]\n",
      " [1.]]\n"
     ]
    }
   ],
   "source": [
    "A1 = np.array([[1,-3],\n",
    "              [2,-6]], float)\n",
    "\n",
    "# Class-style bases (match hand work)\n",
    "Bcol, piv = basis_col_pivot(A1)\n",
    "Bnull = basis_null_rref(A1)\n",
    "\n",
    "print(\"Pivot columns:\", piv)              # -> [0, 1]\n",
    "print(\"Basis for Col(A1):\\n\", Bcol)        # columns are the pivot columns of ORIGINAL A\n",
    "print(\"Basis for Null(A1):\\n\", Bnull)      # columns are the null-space basis vectors"
   ]
  },
  {
   "cell_type": "code",
   "execution_count": 8,
   "id": "5035bd46-8141-4b8e-b370-46b5de660eca",
   "metadata": {},
   "outputs": [
    {
     "name": "stdout",
     "output_type": "stream",
     "text": [
      "Pivot columns: [0, 2]\n",
      "Basis for Col(A2):\n",
      " [[ 0. -8.]\n",
      " [ 1. -1.]\n",
      " [ 2.  6.]]\n",
      "Basis for Null(A2):\n",
      " [[-2.]\n",
      " [ 1.]\n",
      " [ 0.]]\n"
     ]
    }
   ],
   "source": [
    "A2 = np.array([[0,0,-8],\n",
    "              [1,2,-1],\n",
    "              [2,4,6]], float)\n",
    "\n",
    "# Class-style bases (match hand work)\n",
    "Bcol, piv = basis_col_pivot(A2)\n",
    "Bnull = basis_null_rref(A2)\n",
    "\n",
    "print(\"Pivot columns:\", piv)              # -> [0, 1]\n",
    "print(\"Basis for Col(A2):\\n\", Bcol)        # columns are the pivot columns of ORIGINAL A\n",
    "print(\"Basis for Null(A2):\\n\", Bnull)      # columns are the null-space basis vectors"
   ]
  },
  {
   "cell_type": "code",
   "execution_count": 9,
   "id": "ea4fd790-f6e8-4e2b-833c-4006c79e5f91",
   "metadata": {},
   "outputs": [
    {
     "name": "stdout",
     "output_type": "stream",
     "text": [
      "Pivot columns: [0, 1]\n",
      "Basis for Col(A2):\n",
      " [[1. 1.]\n",
      " [1. 0.]\n",
      " [2. 3.]]\n",
      "Basis for Null(A2):\n",
      " [[-2. -1.]\n",
      " [ 3. -2.]\n",
      " [ 1.  0.]\n",
      " [ 0.  1.]]\n"
     ]
    }
   ],
   "source": [
    "A3 = np.array([[1,1,2,1],\n",
    "              [1,0,-1,3],\n",
    "              [2,3,7,0]], float)\n",
    "\n",
    "# Class-style bases (match hand work)\n",
    "Bcol, piv = basis_col_pivot(A3)\n",
    "Bnull = basis_null_rref(A3)\n",
    "\n",
    "print(\"Pivot columns:\", piv)              # -> [0, 1]\n",
    "print(\"Basis for Col(A2):\\n\", Bcol)        # columns are the pivot columns of ORIGINAL A\n",
    "print(\"Basis for Null(A2):\\n\", Bnull)      # columns are the null-space basis vectors"
   ]
  }
 ],
 "metadata": {
  "kernelspec": {
   "display_name": "Python [conda env:base] *",
   "language": "python",
   "name": "conda-base-py"
  },
  "language_info": {
   "codemirror_mode": {
    "name": "ipython",
    "version": 3
   },
   "file_extension": ".py",
   "mimetype": "text/x-python",
   "name": "python",
   "nbconvert_exporter": "python",
   "pygments_lexer": "ipython3",
   "version": "3.12.3"
  }
 },
 "nbformat": 4,
 "nbformat_minor": 5
}
