{
 "cells": [
  {
   "cell_type": "code",
   "execution_count": 11,
   "id": "d1df1258-8ca9-4fcc-9995-cd3dbe3384c8",
   "metadata": {},
   "outputs": [],
   "source": [
    "import numpy as np, pandas as pd "
   ]
  },
  {
   "cell_type": "code",
   "execution_count": 12,
   "id": "88e263d2-d08d-42dc-a994-1912dcb78a5f",
   "metadata": {},
   "outputs": [],
   "source": [
    "def func1(y):\n",
    "    \"\"\"y is an array with n rows. Multiplies 3 times the last n-2 rows,\n",
    "    adds 3 times the first n-2 rows, and subtracts 6 times the middle n-2 rows\n",
    "\n",
    "    Parameters\n",
    "    ----------\n",
    "    y : np array\n",
    "\n",
    "    Returns\n",
    "    -------\n",
    "    np array\n",
    "    \"\"\"\n",
    "    return 3 * y[2:] + 3 * y[:-2] - 6 * y[1:-1]"
   ]
  },
  {
   "cell_type": "code",
   "execution_count": 13,
   "id": "9766e0e4-a250-4f35-a396-a47207689276",
   "metadata": {},
   "outputs": [],
   "source": [
    "# (2) Create Function 2 \n",
    "\n",
    "def func2(y):\n",
    "    \"\"\" y is an n x 2 array. Stacks the first column of y on top of the last column of y\n",
    "\n",
    "    Parameters\n",
    "    ----------\n",
    "    y = np n x 2 array \n",
    "\n",
    "    Returns\n",
    "    -------\n",
    "    np array \n",
    "    \"\"\"\n",
    "    first_col = y[:, 0]\n",
    "    last_col = y[:, -1]\n",
    "    \n",
    "    return np.vstack((y[:, 0], y[:, -1]))"
   ]
  },
  {
   "cell_type": "code",
   "execution_count": 14,
   "id": "0c42a1be-4e24-4a3f-ac54-8dfc37fba962",
   "metadata": {},
   "outputs": [
    {
     "name": "stdout",
     "output_type": "stream",
     "text": [
      "Test array Y (5x4):\n",
      "[[ 0  1  2  3]\n",
      " [ 4  5  6  7]\n",
      " [ 8  9 10 11]\n",
      " [12 13 14 15]\n",
      " [16 17 18 19]] \n",
      "\n",
      "func1(Y):\n",
      "[[0 0 0 0]\n",
      " [0 0 0 0]\n",
      " [0 0 0 0]] \n",
      "\n",
      "Test array Z (3x2):\n",
      "[[1 2]\n",
      " [3 4]\n",
      " [5 6]] \n",
      "\n",
      "func2(Z):\n",
      "[[1 3 5]\n",
      " [2 4 6]]\n"
     ]
    }
   ],
   "source": [
    "# make a small array to test with\n",
    "Y = np.arange(20).reshape(5, 4)\n",
    "print(\"Test array Y (5x4):\")\n",
    "print(Y, \"\\n\")\n",
    "\n",
    "# test func1\n",
    "print(\"func1(Y):\")\n",
    "print(func1(Y), \"\\n\")\n",
    "\n",
    "# make a 2-column array for func2\n",
    "Z = np.array([[1, 2],\n",
    "              [3, 4],\n",
    "              [5, 6]])\n",
    "print(\"Test array Z (3x2):\")\n",
    "print(Z, \"\\n\")\n",
    "\n",
    "# test func2\n",
    "print(\"func2(Z):\")\n",
    "print(func2(Z))"
   ]
  },
  {
   "cell_type": "code",
   "execution_count": null,
   "id": "c83c7348-52d4-4388-ab47-213901d10042",
   "metadata": {},
   "outputs": [],
   "source": []
  }
 ],
 "metadata": {
  "kernelspec": {
   "display_name": "Python 3 (ipykernel)",
   "language": "python",
   "name": "python3"
  },
  "language_info": {
   "codemirror_mode": {
    "name": "ipython",
    "version": 3
   },
   "file_extension": ".py",
   "mimetype": "text/x-python",
   "name": "python",
   "nbconvert_exporter": "python",
   "pygments_lexer": "ipython3",
   "version": "3.13.2"
  }
 },
 "nbformat": 4,
 "nbformat_minor": 5
}
