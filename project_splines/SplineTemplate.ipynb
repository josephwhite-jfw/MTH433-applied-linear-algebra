{
 "cells": [
  {
   "cell_type": "code",
   "execution_count": null,
   "id": "91f00cf5-40ec-4b32-bf0c-68d5acfd70f3",
   "metadata": {},
   "outputs": [],
   "source": [
    "import matplotlib\n",
    "%matplotlib qt \n",
    "import numpy as np\n",
    "import matplotlib.pyplot as plt"
   ]
  },
  {
   "cell_type": "code",
   "execution_count": null,
   "id": "c545b456-ad31-4798-8967-c0393395489c",
   "metadata": {},
   "outputs": [],
   "source": [
    "def make_spline(n,color='r'):\n",
    "    \"\"\"Prompts user to generate n points.  Plots the cubic spline\n",
    "    connecting those points.\n",
    "\n",
    "    Parameters\n",
    "    ----------\n",
    "    n : int\n",
    "    color : string--optional input defaults to red\n",
    "\n",
    "    Returns\n",
    "    -------\n",
    "    None, but it produces a plot\n",
    "    \"\"\"\n",
    "    plt.figure()   #opens an empty figure\n",
    "    plt.xlim(0, 1) #Restricts the x-axis to [0,1]\n",
    "    plt.ylim(0, 1) #Restricts the y-axis to [0,1]\n",
    "    \n",
    "    pts = np.asarray(plt.ginput(n)) #ginput is how we get info from the user.\n",
    "    \n",
    "    X,Y = plot_all(pts)\n",
    "    plt.plot(X,Y,color)\n",
    "    return"
   ]
  }
 ],
 "metadata": {
  "kernelspec": {
   "display_name": "Python [conda env:base] *",
   "language": "python",
   "name": "conda-base-py"
  },
  "language_info": {
   "codemirror_mode": {
    "name": "ipython",
    "version": 3
   },
   "file_extension": ".py",
   "mimetype": "text/x-python",
   "name": "python",
   "nbconvert_exporter": "python",
   "pygments_lexer": "ipython3",
   "version": "3.12.3"
  }
 },
 "nbformat": 4,
 "nbformat_minor": 5
}
